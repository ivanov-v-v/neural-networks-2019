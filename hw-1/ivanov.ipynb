{
 "cells": [
  {
   "cell_type": "code",
   "execution_count": 28,
   "metadata": {
    "ExecuteTime": {
     "end_time": "2019-03-04T20:50:09.229838Z",
     "start_time": "2019-03-04T20:50:09.218554Z"
    }
   },
   "outputs": [
    {
     "data": {
      "application/javascript": [
       "IPython.notebook.set_autosave_interval(15000)"
      ]
     },
     "metadata": {},
     "output_type": "display_data"
    },
    {
     "name": "stdout",
     "output_type": "stream",
     "text": [
      "Autosaving every 15 seconds\n"
     ]
    }
   ],
   "source": [
    "import itertools\n",
    "import math\n",
    "import pickle\n",
    "import random\n",
    "from collections import defaultdict\n",
    "\n",
    "import numpy as np\n",
    "import matplotlib.pylab as plt\n",
    "import pandas as pd\n",
    "import PIL.Image\n",
    "import seaborn as sns\n",
    "import scipy.ndimage\n",
    "import scipy.stats as sps\n",
    "from sklearn.model_selection import train_test_split\n",
    "from sklearn.metrics import log_loss, accuracy_score\n",
    "from sklearn.preprocessing import StandardScaler, Normalizer\n",
    "import tqdm\n",
    "\n",
    "from IPython.core.display import Image, display\n",
    "\n",
    "%matplotlib inline\n",
    "%autosave 15"
   ]
  },
  {
   "cell_type": "markdown",
   "metadata": {
    "collapsed": true
   },
   "source": [
    "# Загружаем датасет"
   ]
  },
  {
   "cell_type": "code",
   "execution_count": 2,
   "metadata": {
    "ExecuteTime": {
     "end_time": "2019-03-04T20:28:53.156035Z",
     "start_time": "2019-03-04T20:28:53.136757Z"
    }
   },
   "outputs": [],
   "source": [
    "with open('./data/hw_1_train.pickle', 'rb') as f:\n",
    "    train = pickle.load(f)\n",
    "\n",
    "with open('./data/hw_1_test_no_lables.pickle', 'rb') as f:\n",
    "    test_no_lables = pickle.load(f)"
   ]
  },
  {
   "cell_type": "code",
   "execution_count": 3,
   "metadata": {
    "ExecuteTime": {
     "end_time": "2019-03-04T20:28:53.946479Z",
     "start_time": "2019-03-04T20:28:53.648839Z"
    }
   },
   "outputs": [
    {
     "data": {
      "image/png": "[encoded data removed]",
      "text/plain": [
       "<Figure size 432x288 with 1 Axes>"
      ]
     },
     "metadata": {
      "needs_background": "light"
     },
     "output_type": "display_data"
    }
   ],
   "source": [
    "# Пример, как можно визуализировать данные\n",
    "plt.imshow(train['data'][0].reshape(28,28));"
   ]
  },
  {
   "cell_type": "markdown",
   "metadata": {},
   "source": [
    "# Обучаем модель"
   ]
  },
  {
   "cell_type": "code",
   "execution_count": 35,
   "metadata": {
    "ExecuteTime": {
     "end_time": "2019-03-04T20:51:46.241982Z",
     "start_time": "2019-03-04T20:51:46.071232Z"
    }
   },
   "outputs": [],
   "source": [
    "# Считаем данные\n",
    "n_samples, n_features = train[\"data\"].shape\n",
    "X = np.column_stack((np.ones(n_samples), train[\"data\"].copy()))\n",
    "\n",
    "standardizer = StandardScaler()\n",
    "X = standardizer.fit_transform(X)\n",
    "\n",
    "# Приведём метки классов к {-1, 1}\n",
    "y = train[\"labels\"].copy()[:, None]\n",
    "y[y == 5] = -1\n",
    "y[y == 6] = 1\n",
    "\n",
    "# Разобьём на обучающую и тренировочную выборку\n",
    "X_train, X_test, y_train, y_test = train_test_split(\n",
    "    X, y, \n",
    "    test_size=0.1, \n",
    "    random_state=1\n",
    ")"
   ]
  },
  {
   "cell_type": "code",
   "execution_count": 60,
   "metadata": {
    "ExecuteTime": {
     "end_time": "2019-03-04T21:10:19.290861Z",
     "start_time": "2019-03-04T21:10:19.283529Z"
    }
   },
   "outputs": [],
   "source": [
    "def sigmoid(x):\n",
    "    return 1 / (1 + np.exp(-x))\n",
    "\n",
    "\n",
    "def logit(X, w):\n",
    "    return sigmoid(X @ w)\n",
    "\n",
    "\n",
    "def predict(X, w):\n",
    "    return 2 * (logit(X, w) > 0.5) - 1\n",
    "\n",
    "\n",
    "def accuracy(y_true, y_pred):\n",
    "    return (y_true == y_pred).mean()\n",
    "\n",
    "\n",
    "def loss_grad_full(X, y, w, regparam):\n",
    "#     grad = np.zeros((X.shape[1], 1))\n",
    "#     for i in range(X.shape[1]):\n",
    "#         features = X[i, :].reshape(-1, 1)\n",
    "#         grad += -y[i]  / (1 + np.exp(y[i] * theta.T @ features)) * features\n",
    "    regvec = w\n",
    "    regvec[0] = 0\n",
    "#     return grad + regparam * regvec\n",
    "    return -X.T @ (y / (1 + np.exp(y * (X @ w))) ) + regparam * regvec\n",
    "\n",
    "\n",
    "def loss_grad_stoch(X, y, w, regparam):\n",
    "    grad = np.zeros((X.shape[1], 1))\n",
    "    for i in range(X.shape[1]):\n",
    "        j = np.random.randint(0, X.shape[0])\n",
    "        fvec = X[j][:, None]\n",
    "        grad += -y[j]  / (1 + np.exp(y[j] * w.T @ fvec)) * fvec + regparam * fvec      \n",
    "    return grad"
   ]
  },
  {
   "cell_type": "code",
   "execution_count": 72,
   "metadata": {
    "ExecuteTime": {
     "end_time": "2019-03-04T21:22:04.695960Z",
     "start_time": "2019-03-04T21:21:46.563576Z"
    },
    "scrolled": false
   },
   "outputs": [
    {
     "data": {
      "application/vnd.jupyter.widget-view+json": {
       "model_id": "a91d5e8e80c34635837357b252f80281",
       "version_major": 2,
       "version_minor": 0
      },
      "text/plain": [
       "HBox(children=(IntProgress(value=0, max=500), HTML(value='')))"
      ]
     },
     "metadata": {},
     "output_type": "display_data"
    },
    {
     "name": "stdout",
     "output_type": "stream",
     "text": [
      "2.6249773907155594\n",
      "1.7614975860762003\n",
      "1.6233392821068369\n",
      "1.519722952922105\n",
      "1.5197221533246748\n",
      "1.3815654485501716\n",
      "1.3124862965654898\n",
      "1.277946720573149\n",
      "1.2779459209757187\n",
      "1.2088675685884673\n",
      "1.1743303913884169\n",
      "1.1397916149935063\n",
      "1.1052528385985956\n",
      "1.0707140622036848\n",
      "1.036174486211344\n",
      "1.0016365094138635\n",
      "0.9670977330189527\n",
      "0.9325581570266119\n",
      "0.8980193806317012\n",
      "0.8634806042367905\n",
      "0.82894262743931\n",
      "0.7944030514469692\n",
      "0.7598634754546284\n",
      "0.7598634754546283\n",
      "0.7253254986571478\n",
      "0.7253246990597176\n",
      "0.6907867222622371\n",
      "0.6562471462698963\n",
      "0.6562463466724662\n",
      "0.6217075702775555\n",
      "0.6217067706801253\n",
      "0.5871671946877844\n",
      "0.5526284182928738\n"
     ]
    }
   ],
   "source": [
    "max_iter = 500\n",
    "\n",
    "# Выберем случайное начальное приближение вектора параметров\n",
    "weights = np.random.normal(scale=1e-3, size=n_features + 1)[:, None]\n",
    "tr_eval = []\n",
    "te_eval = []\n",
    "tolerance = 1e-7\n",
    "\n",
    "loss_opt = 1e6\n",
    "weights_opt = None\n",
    "learning_rates = np.linspace(0.01, 1, 100)\n",
    "\n",
    "for i in tqdm.tqdm_notebook(range(max_iter)):\n",
    "    grad = loss_grad_stoch(X_train, y_train, weights, regparam=0)\n",
    "    grad_norm = np.linalg.norm(grad) \n",
    "    if grad_norm < tolerance:\n",
    "        break\n",
    "    h = grad / grad_norm\n",
    "    lr_opt = learning_rates[np.argmin(\n",
    "        log_loss(y_train, predict(X_train, weights - lr * h))\n",
    "        for lr in learning_rates\n",
    "    )]\n",
    "    weights -= lr_opt * h\n",
    "#     y_train_pred = predict(X_train, weights)\n",
    "#     tr_eval += [(log_loss(y_train, y_train_pred), \n",
    "#                 accuracy(y_train, y_train_pred))]\n",
    "    y_test_pred = predict(X_test, weights)\n",
    "    te_eval += [(log_loss(y_test, y_test_pred), \n",
    "                accuracy(y_test, y_test_pred))]\n",
    "    if te_eval[-1][0] < loss_opt:\n",
    "        loss_opt = te_eval[-1][0]\n",
    "        print(loss_opt)\n",
    "        weights_opt = weights"
   ]
  },
  {
   "cell_type": "code",
   "execution_count": 73,
   "metadata": {
    "ExecuteTime": {
     "end_time": "2019-03-04T21:22:25.084850Z",
     "start_time": "2019-03-04T21:22:24.686479Z"
    }
   },
   "outputs": [
    {
     "data": {
      "text/plain": [
       "<matplotlib.axes._subplots.AxesSubplot at 0x7f7214a55fd0>"
      ]
     },
     "execution_count": 73,
     "metadata": {},
     "output_type": "execute_result"
    },
    {
     "data": {
      "image/png": "[encoded data removed]",
      "text/plain": [
       "<Figure size 432x288 with 2 Axes>"
      ]
     },
     "metadata": {
      "needs_background": "light"
     },
     "output_type": "display_data"
    }
   ],
   "source": [
    "sns.heatmap(weights_opt[1:].reshape(28,28))"
   ]
  },
  {
   "cell_type": "code",
   "execution_count": 74,
   "metadata": {
    "ExecuteTime": {
     "end_time": "2019-03-04T21:22:28.221769Z",
     "start_time": "2019-03-04T21:22:28.215510Z"
    }
   },
   "outputs": [
    {
     "data": {
      "text/plain": [
       "DescribeResult(nobs=785, minmax=(array([-0.19190286]), array([0.29482259])), mean=array([-0.00244135]), variance=array([0.00369659]), skewness=array([0.96240826]), kurtosis=array([3.88350248]))"
      ]
     },
     "execution_count": 74,
     "metadata": {},
     "output_type": "execute_result"
    }
   ],
   "source": [
    "sps.describe(weights)"
   ]
  },
  {
   "cell_type": "markdown",
   "metadata": {},
   "source": [
    "# Оцениваем результат"
   ]
  },
  {
   "cell_type": "markdown",
   "metadata": {},
   "source": [
    "Обязательно отрисуйте 2 графика:\n",
    "- loss на обучающем и тестовом множесте\n",
    "- % правильно классифицированных примеров на тестовом и обучающем множестве"
   ]
  },
  {
   "cell_type": "code",
   "execution_count": 67,
   "metadata": {
    "ExecuteTime": {
     "end_time": "2019-03-04T21:17:10.523259Z",
     "start_time": "2019-03-04T21:17:10.243065Z"
    }
   },
   "outputs": [
    {
     "data": {
      "image/png": "[encoded data removed]",
      "text/plain": [
       "<Figure size 432x288 with 1 Axes>"
      ]
     },
     "metadata": {
      "needs_background": "light"
     },
     "output_type": "display_data"
    }
   ],
   "source": [
    "plt.title('Loss')\n",
    "plt.plot([e[0] for e in tr_eval], label='train')\n",
    "plt.plot([e[0] for e in te_eval], label='test')\n",
    "plt.legend();"
   ]
  },
  {
   "cell_type": "code",
   "execution_count": 68,
   "metadata": {
    "ExecuteTime": {
     "end_time": "2019-03-04T21:17:11.354342Z",
     "start_time": "2019-03-04T21:17:11.075913Z"
    }
   },
   "outputs": [
    {
     "data": {
      "image/png": "[encoded data removed]",
      "text/plain": [
       "<Figure size 432x288 with 1 Axes>"
      ]
     },
     "metadata": {
      "needs_background": "light"
     },
     "output_type": "display_data"
    }
   ],
   "source": [
    "plt.title('Acc')\n",
    "plt.plot([e[1] for e in tr_eval], label='train')\n",
    "plt.plot([e[1] for e in te_eval], label='test')\n",
    "plt.legend();"
   ]
  },
  {
   "cell_type": "markdown",
   "metadata": {},
   "source": [
    "# Сохраняем данные для кагла"
   ]
  },
  {
   "cell_type": "markdown",
   "metadata": {},
   "source": [
    "https://www.kaggle.com/t/513ea517806348848dc78c4f41d44528"
   ]
  },
  {
   "cell_type": "markdown",
   "metadata": {},
   "source": [
    "Результат записывается в простой текстовый файл. Первая строчка \"Id,Prediction\", далее для каждого примера из валидационного множества записывается его Id (порядковый номер, с нуля) и вероятность принадлежности к классу '6', например '123,0.12'.\n",
    "\n",
    "Важно соблюдать тот же порядок следования элементов, что и в наборе данных. Нумерация id с 0"
   ]
  },
  {
   "cell_type": "code",
   "execution_count": 75,
   "metadata": {
    "ExecuteTime": {
     "end_time": "2019-03-04T21:22:37.788947Z",
     "start_time": "2019-03-04T21:22:37.732909Z"
    }
   },
   "outputs": [],
   "source": [
    "te_X = test_no_lables['data']\n",
    "te_X = np.column_stack((np.ones(te_X.shape[0]), te_X))\n",
    "te_X = standardizer.transform(te_X)\n",
    "te_y_pred = logit(te_X, weights_opt)\n",
    "\n",
    "with open('solution_stochgrad_no_regr_500_iters.csv', 'w') as fout:\n",
    "    print(\"Id,Prediction\", file=fout)\n",
    "    for i in range(te_y_pred.size):\n",
    "        print(i, *te_y_pred[i], sep=',', file=fout)"
   ]
  },
  {
   "cell_type": "code",
   "execution_count": 76,
   "metadata": {
    "ExecuteTime": {
     "end_time": "2019-03-04T21:22:39.668509Z",
     "start_time": "2019-03-04T21:22:39.398402Z"
    }
   },
   "outputs": [
    {
     "data": {
      "text/plain": [
       "(array([1429.,   50.,   15.,   13.,   22.,   18.,   10.,   29.,   52.,\n",
       "        1551.]),\n",
       " array([2.81395199e-11, 1.00000000e-01, 2.00000000e-01, 3.00000000e-01,\n",
       "        4.00000000e-01, 5.00000000e-01, 6.00000000e-01, 7.00000000e-01,\n",
       "        8.00000000e-01, 9.00000000e-01, 1.00000000e+00]),\n",
       " <a list of 10 Patch objects>)"
      ]
     },
     "execution_count": 76,
     "metadata": {},
     "output_type": "execute_result"
    },
    {
     "data": {
      "image/png": "[encoded data removed]",
      "text/plain": [
       "<Figure size 432x288 with 1 Axes>"
      ]
     },
     "metadata": {
      "needs_background": "light"
     },
     "output_type": "display_data"
    }
   ],
   "source": [
    "plt.hist(te_y_pred)"
   ]
  },
  {
   "cell_type": "code",
   "execution_count": 72,
   "metadata": {
    "ExecuteTime": {
     "end_time": "2019-02-28T10:39:26.151874Z",
     "start_time": "2019-02-28T10:39:22.107844Z"
    }
   },
   "outputs": [
    {
     "data": {
      "text/plain": [
       "LogisticRegression(C=1, class_weight=None, dual=False, fit_intercept=True,\n",
       "          intercept_scaling=1, max_iter=100000, multi_class='ovr',\n",
       "          n_jobs=1, penalty='l2', random_state=None, solver='liblinear',\n",
       "          tol=0.0001, verbose=0, warm_start=False)"
      ]
     },
     "execution_count": 72,
     "metadata": {},
     "output_type": "execute_result"
    }
   ],
   "source": [
    "from sklearn.linear_model import LogisticRegression, LogisticRegressionCV\n",
    "from sklearn.metrics import accuracy_score\n",
    "\n",
    "lm = LogisticRegression(max_iter=100000, C=1, penalty=\"l2\")\n",
    "lm.fit(X_train, y_train.ravel())"
   ]
  },
  {
   "cell_type": "code",
   "execution_count": 73,
   "metadata": {
    "ExecuteTime": {
     "end_time": "2019-02-28T10:39:26.286508Z",
     "start_time": "2019-02-28T10:39:26.153848Z"
    },
    "scrolled": false
   },
   "outputs": [
    {
     "data": {
      "text/plain": [
       "(array([1496.,   23.,    6.,   13.,    5.,   10.,    6.,   15.,   21.,\n",
       "        1594.]),\n",
       " array([2.46389814e-37, 1.00000000e-01, 2.00000000e-01, 3.00000000e-01,\n",
       "        4.00000000e-01, 5.00000000e-01, 6.00000000e-01, 7.00000000e-01,\n",
       "        8.00000000e-01, 9.00000000e-01, 1.00000000e+00]),\n",
       " <a list of 10 Patch objects>)"
      ]
     },
     "execution_count": 73,
     "metadata": {},
     "output_type": "execute_result"
    },
    {
     "data": {
      "image/png": "[encoded data removed]",
      "text/plain": [
       "<Figure size 432x288 with 1 Axes>"
      ]
     },
     "metadata": {},
     "output_type": "display_data"
    }
   ],
   "source": [
    "plt.hist(lm.predict_proba(te_X)[:,1])"
   ]
  },
  {
   "cell_type": "code",
   "execution_count": 59,
   "metadata": {
    "ExecuteTime": {
     "end_time": "2019-02-28T10:33:51.015772Z",
     "start_time": "2019-02-28T10:33:50.834013Z"
    }
   },
   "outputs": [
    {
     "data": {
      "text/plain": [
       "<matplotlib.axes._subplots.AxesSubplot at 0x7f1034ec83c8>"
      ]
     },
     "execution_count": 59,
     "metadata": {},
     "output_type": "execute_result"
    },
    {
     "data": {
      "image/png": "[encoded data removed]",
      "text/plain": [
       "<Figure size 432x288 with 2 Axes>"
      ]
     },
     "metadata": {},
     "output_type": "display_data"
    }
   ],
   "source": [
    "sns.heatmap(lm.coef_[0, 1:].reshape(28,28))"
   ]
  },
  {
   "cell_type": "code",
   "execution_count": 60,
   "metadata": {
    "ExecuteTime": {
     "end_time": "2019-02-28T10:33:51.401907Z",
     "start_time": "2019-02-28T10:33:51.017540Z"
    }
   },
   "outputs": [
    {
     "data": {
      "text/plain": [
       "(array([1424.,   54.,   22.,   12.,   20.,   16.,   20.,   22.,   58.,\n",
       "        1541.]),\n",
       " array([0. , 0.1, 0.2, 0.3, 0.4, 0.5, 0.6, 0.7, 0.8, 0.9, 1. ]),\n",
       " <a list of 10 Patch objects>)"
      ]
     },
     "execution_count": 60,
     "metadata": {},
     "output_type": "execute_result"
    },
    {
     "data": {
      "image/png": "[encoded data removed]",
      "text/plain": [
       "<Figure size 432x288 with 1 Axes>"
      ]
     },
     "metadata": {},
     "output_type": "display_data"
    }
   ],
   "source": [
    "plt.hist(pd.read_csv(\"Feofanova.csv\")[\"Prediction\"])"
   ]
  },
  {
   "cell_type": "markdown",
   "metadata": {},
   "source": [
    "# Сдача"
   ]
  },
  {
   "cell_type": "markdown",
   "metadata": {},
   "source": [
    "1. Регистрируетесь на конкурс https://www.kaggle.com/t/34e77301ef914c5792e4f4306144a6b3 \n",
    "1. Преодолеваете \"Pass level\" baseline\n",
    "1. После того, как вы преодолеете baseline, присылайте ноутбук с решение по адресу **voropaev@corp.mail.ru**\n",
    "\n",
    "# Внимание\n",
    "- Тему письма писать в формате \"[МФТИ][1] Фамилия\"\n",
    "- Внутри писма прикрепляете файл ноутбука с именем <ваша фамилия>.ipynb"
   ]
  }
 ],
 "metadata": {
  "kernelspec": {
   "display_name": "Python 3",
   "language": "python",
   "name": "python3"
  },
  "language_info": {
   "codemirror_mode": {
    "name": "ipython",
    "version": 3
   },
   "file_extension": ".py",
   "mimetype": "text/x-python",
   "name": "python",
   "nbconvert_exporter": "python",
   "pygments_lexer": "ipython3",
   "version": "3.5.5"
  },
  "varInspector": {
   "cols": {
    "lenName": 16,
    "lenType": 16,
    "lenVar": 40
   },
   "kernels_config": {
    "python": {
     "delete_cmd_postfix": "",
     "delete_cmd_prefix": "del ",
     "library": "var_list.py",
     "varRefreshCmd": "print(var_dic_list())"
    },
    "r": {
     "delete_cmd_postfix": ") ",
     "delete_cmd_prefix": "rm(",
     "library": "var_list.r",
     "varRefreshCmd": "cat(var_dic_list()) "
    }
   },
   "types_to_exclude": [
    "module",
    "function",
    "builtin_function_or_method",
    "instance",
    "_Feature"
   ],
   "window_display": false
  }
 },
 "nbformat": 4,
 "nbformat_minor": 2
}
