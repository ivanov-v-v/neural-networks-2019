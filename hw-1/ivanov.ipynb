{
 "cells": [
  {
   "cell_type": "code",
   "execution_count": 1,
   "metadata": {},
   "outputs": [
    {
     "data": {
      "application/javascript": [
       "IPython.notebook.set_autosave_interval(15000)"
      ]
     },
     "metadata": {},
     "output_type": "display_data"
    },
    {
     "name": "stdout",
     "output_type": "stream",
     "text": [
      "Autosaving every 15 seconds\n"
     ]
    }
   ],
   "source": [
    "import itertools\n",
    "import math\n",
    "import pickle\n",
    "import random\n",
    "from collections import defaultdict\n",
    "\n",
    "import numpy as np\n",
    "import matplotlib.pylab as plt\n",
    "import pandas as pd\n",
    "import PIL.Image\n",
    "import seaborn as sns\n",
    "import scipy.ndimage\n",
    "import scipy.stats as sps\n",
    "from sklearn.model_selection import train_test_split\n",
    "from sklearn.metrics import log_loss\n",
    "import tqdm\n",
    "\n",
    "from IPython.core.display import Image, display\n",
    "\n",
    "%matplotlib inline\n",
    "%autosave 15"
   ]
  },
  {
   "cell_type": "markdown",
   "metadata": {
    "collapsed": true
   },
   "source": [
    "# Загружаем датасет"
   ]
  },
  {
   "cell_type": "code",
   "execution_count": 2,
   "metadata": {},
   "outputs": [],
   "source": [
    "with open('./data/hw_1_train.pickle', 'rb') as f:\n",
    "    train = pickle.load(f)\n",
    "\n",
    "with open('./data/hw_1_test_no_lables.pickle', 'rb') as f:\n",
    "    test_no_lables = pickle.load(f)"
   ]
  },
  {
   "cell_type": "code",
   "execution_count": 3,
   "metadata": {},
   "outputs": [
    {
     "data": {
      "image/png": "[encoded data removed]",
      "text/plain": [
       "<Figure size 432x288 with 1 Axes>"
      ]
     },
     "metadata": {},
     "output_type": "display_data"
    }
   ],
   "source": [
    "# Пример, как можно визуализировать данные\n",
    "plt.imshow(train['data'][0].reshape(28,28));"
   ]
  },
  {
   "cell_type": "markdown",
   "metadata": {},
   "source": [
    "# Обучаем модель"
   ]
  },
  {
   "cell_type": "code",
   "execution_count": 95,
   "metadata": {},
   "outputs": [],
   "source": [
    "# Считаем данные\n",
    "n_samples, n_features = train[\"data\"].shape\n",
    "X = np.column_stack((np.ones(n_samples), train[\"data\"].copy()))\n",
    "\n",
    "# Стандартизуем фичи\n",
    "scaling_mean = X.mean()\n",
    "scaling_std = X.std() + 1e-4\n",
    "X = (X - scaling_mean) / scaling_std\n",
    "\n",
    "# Приведём метки классов к {-1, 1}\n",
    "y = train[\"labels\"].copy()[:, None]\n",
    "y[y == 5] = -1\n",
    "y[y == 6] = 1\n",
    "\n",
    "# Разобьём на обучающую и тренировочную выборку\n",
    "X_train, X_test, y_train, y_test = train_test_split(\n",
    "    X, y, \n",
    "    test_size=0.09, \n",
    "    random_state=0\n",
    ")"
   ]
  },
  {
   "cell_type": "code",
   "execution_count": 190,
   "metadata": {},
   "outputs": [],
   "source": [
    "def sigmoid(x):\n",
    "    return 1 / (1 + np.exp(-x))\n",
    "\n",
    "\n",
    "def logit(X, w):\n",
    "    return sigmoid(X @ w)\n",
    "\n",
    "\n",
    "def predict(X, w):\n",
    "    return 2 * (logit(X, w) > 0.5) - 1\n",
    "\n",
    "\n",
    "def accuracy(y_true, y_pred):\n",
    "    return (y_true == y_pred).mean()\n",
    "\n",
    "\n",
    "def loss_grad_full(X, y, w, regparam):\n",
    "#     grad = np.zeros((X.shape[1], 1))\n",
    "#     for i in range(X.shape[1]):\n",
    "#         features = X[i, :].reshape(-1, 1)\n",
    "#         grad += y[i]  / (1 + np.exp(y[i] * theta.T @ features)) * features\n",
    "#     return grad\n",
    "    regvec = weights\n",
    "    regvec[0] = 0\n",
    "    return -X.T @ (y / (1 + np.exp(y * (X @ w))) ) + regparam * regvec\n",
    "\n",
    "\n",
    "def loss_grad_stoch(X, y, w, regparam):\n",
    "    grad = np.zeros((X.shape[1], 1))\n",
    "    for i in range(X.shape[1]):\n",
    "        j = np.random.randint(0, X.shape[0])\n",
    "        fvec = X[j][:, None]\n",
    "        grad += -y[j]  / (1 + np.exp(y[j] * w.T @ fvec)) * fvec + regparam * fvec      \n",
    "    return grad"
   ]
  },
  {
   "cell_type": "code",
   "execution_count": 233,
   "metadata": {
    "scrolled": false
   },
   "outputs": [
    {
     "data": {
      "application/vnd.jupyter.widget-view+json": {
       "model_id": "e86f28a8f4a14e2d90998ca2251b2ccd",
       "version_major": 2,
       "version_minor": 0
      },
      "text/plain": [
       "HBox(children=(IntProgress(value=0, max=1000), HTML(value='')))"
      ]
     },
     "metadata": {},
     "output_type": "display_data"
    }
   ],
   "source": [
    "max_iter = 1000\n",
    "\n",
    "# Выберем случайное начальное приближение вектора параметров\n",
    "weights = np.random.normal(scale=1e-3, size=n_features + 1)[:, None]\n",
    "tr_eval = []\n",
    "te_eval = []\n",
    "tolerance = 1e-15\n",
    "\n",
    "for i in tqdm.tqdm_notebook(range(max_iter)):\n",
    "    learning_rate = 0.1 / (i + 1)\n",
    "    grad = loss_grad_full(X_train, y_train, weights, regparam=10)\n",
    "    if learning_rate * np.linalg.norm(grad) < tolerance:\n",
    "        break\n",
    "    weights -= learning_rate * grad\n",
    "#     y_train_pred = predict(X_train, weights)\n",
    "#     tr_eval += [(log_loss(y_train, y_train_pred), \n",
    "#                 accuracy(y_train, y_train_pred))]\n",
    "#     y_test_pred = predict(X_test, weights)\n",
    "#     te_eval += [(log_loss(y_test, y_test_pred), \n",
    "#                 accuracy(y_test, y_test_pred))]"
   ]
  },
  {
   "cell_type": "code",
   "execution_count": 234,
   "metadata": {},
   "outputs": [
    {
     "data": {
      "text/plain": [
       "<matplotlib.axes._subplots.AxesSubplot at 0x7fe94e0539b0>"
      ]
     },
     "execution_count": 234,
     "metadata": {},
     "output_type": "execute_result"
    },
    {
     "data": {
      "image/png": "[encoded data removed]",
      "text/plain": [
       "<Figure size 432x288 with 2 Axes>"
      ]
     },
     "metadata": {},
     "output_type": "display_data"
    }
   ],
   "source": [
    "sns.heatmap(weights[1:].reshape(28,28))"
   ]
  },
  {
   "cell_type": "code",
   "execution_count": 235,
   "metadata": {},
   "outputs": [
    {
     "data": {
      "text/plain": [
       "DescribeResult(nobs=785, minmax=(array([-0.85310628]), array([0.82413651])), mean=array([0.01095999]), variance=array([0.04353099]), skewness=array([-0.59202048]), kurtosis=array([1.83009125]))"
      ]
     },
     "execution_count": 235,
     "metadata": {},
     "output_type": "execute_result"
    }
   ],
   "source": [
    "sps.describe(weights)"
   ]
  },
  {
   "cell_type": "markdown",
   "metadata": {},
   "source": [
    "# Оцениваем результат"
   ]
  },
  {
   "cell_type": "markdown",
   "metadata": {},
   "source": [
    "Обязательно отрисуйте 2 графика:\n",
    "- loss на обучающем и тестовом множесте\n",
    "- % правильно классифицированных примеров на тестовом и обучающем множестве"
   ]
  },
  {
   "cell_type": "code",
   "execution_count": 236,
   "metadata": {},
   "outputs": [
    {
     "data": {
      "image/png": "[encoded data removed]",
      "text/plain": [
       "<Figure size 432x288 with 1 Axes>"
      ]
     },
     "metadata": {},
     "output_type": "display_data"
    }
   ],
   "source": [
    "plt.title('Loss')\n",
    "plt.plot([e[0] for e in tr_eval], label='train')\n",
    "plt.plot([e[0] for e in te_eval], label='test')\n",
    "plt.legend();"
   ]
  },
  {
   "cell_type": "code",
   "execution_count": 237,
   "metadata": {},
   "outputs": [
    {
     "data": {
      "image/png": "[encoded data removed]",
      "text/plain": [
       "<Figure size 432x288 with 1 Axes>"
      ]
     },
     "metadata": {},
     "output_type": "display_data"
    }
   ],
   "source": [
    "plt.title('Acc')\n",
    "plt.plot([e[1] for e in tr_eval], label='train')\n",
    "plt.plot([e[1] for e in te_eval], label='test')\n",
    "plt.legend();"
   ]
  },
  {
   "cell_type": "markdown",
   "metadata": {},
   "source": [
    "# Сохраняем данные для кагла"
   ]
  },
  {
   "cell_type": "markdown",
   "metadata": {},
   "source": [
    "https://www.kaggle.com/t/513ea517806348848dc78c4f41d44528"
   ]
  },
  {
   "cell_type": "markdown",
   "metadata": {},
   "source": [
    "Результат записывается в простой текстовый файл. Первая строчка \"Id,Prediction\", далее для каждого примера из валидационного множества записывается его Id (порядковый номер, с нуля) и вероятность принадлежности к классу '6', например '123,0.12'.\n",
    "\n",
    "Важно соблюдать тот же порядок следования элементов, что и в наборе данных. Нумерация id с 0"
   ]
  },
  {
   "cell_type": "code",
   "execution_count": 238,
   "metadata": {},
   "outputs": [],
   "source": [
    "te_X = test_no_lables['data']\n",
    "te_X = np.column_stack((np.ones(te_X.shape[0]), te_X))\n",
    "te_X = (te_X - scaling_mean) / scaling_std\n",
    "te_y_pred = logit(te_X, weights)\n",
    "\n",
    "with open('solution.csv', 'w') as fout:\n",
    "    print(\"Id,Prediction\", file=fout)\n",
    "    for i in range(te_y_pred.size):\n",
    "        print(i, te_y_pred[i], sep=',', file=fout)"
   ]
  },
  {
   "cell_type": "code",
   "execution_count": 239,
   "metadata": {},
   "outputs": [
    {
     "data": {
      "text/plain": [
       "(array([1491.,   16.,   16.,   13.,    7.,    9.,    7.,   16.,   33.,\n",
       "        1581.]),\n",
       " array([2.18679643e-24, 1.00000000e-01, 2.00000000e-01, 3.00000000e-01,\n",
       "        4.00000000e-01, 5.00000000e-01, 6.00000000e-01, 7.00000000e-01,\n",
       "        8.00000000e-01, 9.00000000e-01, 1.00000000e+00]),\n",
       " <a list of 10 Patch objects>)"
      ]
     },
     "execution_count": 239,
     "metadata": {},
     "output_type": "execute_result"
    },
    {
     "data": {
      "image/png": "[encoded data removed]",
      "text/plain": [
       "<Figure size 432x288 with 1 Axes>"
      ]
     },
     "metadata": {},
     "output_type": "display_data"
    }
   ],
   "source": [
    "plt.hist(te_y_pred)"
   ]
  },
  {
   "cell_type": "code",
   "execution_count": 159,
   "metadata": {},
   "outputs": [
    {
     "data": {
      "text/plain": [
       "LogisticRegression(C=1, class_weight=None, dual=False, fit_intercept=True,\n",
       "          intercept_scaling=1, max_iter=100000, multi_class='ovr',\n",
       "          n_jobs=1, penalty='l2', random_state=None, solver='liblinear',\n",
       "          tol=0.0001, verbose=0, warm_start=False)"
      ]
     },
     "execution_count": 159,
     "metadata": {},
     "output_type": "execute_result"
    }
   ],
   "source": [
    "from sklearn.linear_model import LogisticRegression, LogisticRegressionCV\n",
    "from sklearn.metrics import accuracy_score\n",
    "\n",
    "lm = LogisticRegression(max_iter=100000, C=1, penalty=\"l2\")\n",
    "lm.fit(X_train, y_train.ravel())"
   ]
  },
  {
   "cell_type": "code",
   "execution_count": 214,
   "metadata": {
    "scrolled": false
   },
   "outputs": [
    {
     "data": {
      "text/plain": [
       "(array([1490.,   23.,   12.,    9.,    7.,   10.,   10.,   15.,   22.,\n",
       "        1591.]),\n",
       " array([1.03296591e-32, 1.00000000e-01, 2.00000000e-01, 3.00000000e-01,\n",
       "        4.00000000e-01, 5.00000000e-01, 6.00000000e-01, 7.00000000e-01,\n",
       "        8.00000000e-01, 9.00000000e-01, 1.00000000e+00]),\n",
       " <a list of 10 Patch objects>)"
      ]
     },
     "execution_count": 214,
     "metadata": {},
     "output_type": "execute_result"
    },
    {
     "data": {
      "image/png": "[encoded data removed]",
      "text/plain": [
       "<Figure size 432x288 with 1 Axes>"
      ]
     },
     "metadata": {},
     "output_type": "display_data"
    }
   ],
   "source": [
    "plt.hist(lm.predict_proba(te_X)[:,1])"
   ]
  },
  {
   "cell_type": "code",
   "execution_count": 210,
   "metadata": {},
   "outputs": [
    {
     "data": {
      "text/plain": [
       "<matplotlib.axes._subplots.AxesSubplot at 0x7fe94e255780>"
      ]
     },
     "execution_count": 210,
     "metadata": {},
     "output_type": "execute_result"
    },
    {
     "data": {
      "image/png": "[encoded data removed]",
      "text/plain": [
       "<Figure size 432x288 with 2 Axes>"
      ]
     },
     "metadata": {},
     "output_type": "display_data"
    }
   ],
   "source": [
    "sns.heatmap(lm.coef_[0, 1:].reshape(28,28))"
   ]
  },
  {
   "cell_type": "code",
   "execution_count": 105,
   "metadata": {},
   "outputs": [
    {
     "data": {
      "text/plain": [
       "(array([1424.,   54.,   22.,   12.,   20.,   16.,   20.,   22.,   58.,\n",
       "        1541.]),\n",
       " array([0. , 0.1, 0.2, 0.3, 0.4, 0.5, 0.6, 0.7, 0.8, 0.9, 1. ]),\n",
       " <a list of 10 Patch objects>)"
      ]
     },
     "execution_count": 105,
     "metadata": {},
     "output_type": "execute_result"
    },
    {
     "data": {
      "image/png": "[encoded data removed]",
      "text/plain": [
       "<Figure size 432x288 with 1 Axes>"
      ]
     },
     "metadata": {},
     "output_type": "display_data"
    }
   ],
   "source": [
    "plt.hist(pd.read_csv(\"Feofanova.csv\")[\"Prediction\"])"
   ]
  },
  {
   "cell_type": "markdown",
   "metadata": {},
   "source": [
    "# Сдача"
   ]
  },
  {
   "cell_type": "markdown",
   "metadata": {},
   "source": [
    "1. Регистрируетесь на конкурс https://www.kaggle.com/t/34e77301ef914c5792e4f4306144a6b3 \n",
    "1. Преодолеваете \"Pass level\" baseline\n",
    "1. После того, как вы преодолеете baseline, присылайте ноутбук с решение по адресу **voropaev@corp.mail.ru**\n",
    "\n",
    "# Внимание\n",
    "- Тему письма писать в формате \"[МФТИ][1] Фамилия\"\n",
    "- Внутри писма прикрепляете файл ноутбука с именем <ваша фамилия>.ipynb"
   ]
  }
 ],
 "metadata": {
  "kernelspec": {
   "display_name": "Python [default]",
   "language": "python",
   "name": "python3"
  },
  "language_info": {
   "codemirror_mode": {
    "name": "ipython",
    "version": 3
   },
   "file_extension": ".py",
   "mimetype": "text/x-python",
   "name": "python",
   "nbconvert_exporter": "python",
   "pygments_lexer": "ipython3",
   "version": "3.5.5"
  }
 },
 "nbformat": 4,
 "nbformat_minor": 2
}
