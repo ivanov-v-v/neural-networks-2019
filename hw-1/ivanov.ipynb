{
 "cells": [
  {
   "cell_type": "code",
   "execution_count": 20,
   "metadata": {
    "ExecuteTime": {
     "end_time": "2019-03-07T15:55:20.738961Z",
     "start_time": "2019-03-07T15:55:20.729986Z"
    }
   },
   "outputs": [
    {
     "data": {
      "application/javascript": [
       "IPython.notebook.set_autosave_interval(15000)"
      ]
     },
     "metadata": {},
     "output_type": "display_data"
    },
    {
     "name": "stdout",
     "output_type": "stream",
     "text": [
      "Autosaving every 15 seconds\n"
     ]
    }
   ],
   "source": [
    "import itertools\n",
    "import math\n",
    "import pickle\n",
    "import random\n",
    "from collections import defaultdict\n",
    "\n",
    "import numpy as np\n",
    "import matplotlib.pylab as plt\n",
    "import pandas as pd\n",
    "import PIL.Image\n",
    "import seaborn as sns\n",
    "import scipy.ndimage\n",
    "import scipy.stats as sps\n",
    "from sklearn.model_selection import train_test_split, KFold\n",
    "from sklearn.metrics import log_loss, accuracy_score\n",
    "from sklearn.preprocessing import StandardScaler, Normalizer\n",
    "import tqdm\n",
    "\n",
    "from IPython.core.display import Image, display\n",
    "\n",
    "%matplotlib inline\n",
    "%autosave 15"
   ]
  },
  {
   "cell_type": "markdown",
   "metadata": {
    "collapsed": true
   },
   "source": [
    "# Загружаем датасет"
   ]
  },
  {
   "cell_type": "code",
   "execution_count": 3,
   "metadata": {
    "ExecuteTime": {
     "end_time": "2019-03-07T15:50:42.857588Z",
     "start_time": "2019-03-07T15:50:42.838529Z"
    }
   },
   "outputs": [],
   "source": [
    "with open('./data/hw_1_train.pickle', 'rb') as f:\n",
    "    train = pickle.load(f)\n",
    "\n",
    "with open('./data/hw_1_test_no_lables.pickle', 'rb') as f:\n",
    "    test_no_lables = pickle.load(f)"
   ]
  },
  {
   "cell_type": "code",
   "execution_count": 4,
   "metadata": {
    "ExecuteTime": {
     "end_time": "2019-03-07T15:50:43.650345Z",
     "start_time": "2019-03-07T15:50:43.338142Z"
    }
   },
   "outputs": [
    {
     "data": {
      "image/png": "[encoded data removed]",
      "text/plain": [
       "<Figure size 432x288 with 1 Axes>"
      ]
     },
     "metadata": {
      "needs_background": "light"
     },
     "output_type": "display_data"
    }
   ],
   "source": [
    "# Пример, как можно визуализировать данные\n",
    "plt.imshow(train['data'][0].reshape(28,28));"
   ]
  },
  {
   "cell_type": "markdown",
   "metadata": {},
   "source": [
    "# Обучаем модель"
   ]
  },
  {
   "cell_type": "code",
   "execution_count": 21,
   "metadata": {
    "ExecuteTime": {
     "end_time": "2019-03-07T15:56:47.947683Z",
     "start_time": "2019-03-07T15:56:47.940424Z"
    }
   },
   "outputs": [],
   "source": [
    "def sigmoid(x):\n",
    "    return 1 / (1 + np.exp(-x))\n",
    "\n",
    "\n",
    "def logit(X, w):\n",
    "    return sigmoid(X @ w)\n",
    "\n",
    "\n",
    "def predict(X, w):\n",
    "    return 2 * (logit(X, w) > 0.5) - 1\n",
    "\n",
    "\n",
    "def accuracy(y_true, y_pred):\n",
    "    return (y_true == y_pred).mean()\n",
    "\n",
    "\n",
    "def loss_grad_full(X, y, w, regparam):\n",
    "#     grad = np.zeros((X.shape[1], 1))\n",
    "#     for i in range(X.shape[1]):\n",
    "#         features = X[i, :].reshape(-1, 1)\n",
    "#         grad += -y[i]  / (1 + np.exp(y[i] * theta.T @ features)) * features\n",
    "    regvec = w\n",
    "    regvec[0] = 0\n",
    "#     return grad + regparam * regvec\n",
    "    return -X.T @ (y / (1 + np.exp(y * (X @ w))) ) + regparam * regvec\n",
    "\n",
    "\n",
    "def loss_grad_stoch(X, y, w, regparam):\n",
    "    grad = np.zeros((X.shape[1], 1))\n",
    "    for i in range(X.shape[1]):\n",
    "        j = np.random.randint(0, X.shape[0])\n",
    "        fvec = X[j][:, None]\n",
    "        grad += -y[j]  / (1 + np.exp(y[j] * w.T @ fvec)) * fvec + regparam * fvec      \n",
    "    return grad"
   ]
  },
  {
   "cell_type": "markdown",
   "metadata": {},
   "source": [
    "Я довольно долго мучился, но всё же написал в итоге хороший алгоритм.  \n",
    "У меня полный градиентный спуск, поиск оптимальной длины шага с помощью тернарного поиска, кросс-валидация и подбор оптимального вектора параметров по `accuracy` на кросс-валидации. Он в итоге зашёл за отсечку `Normal`, и я этому очень рад. "
   ]
  },
  {
   "cell_type": "code",
   "execution_count": 32,
   "metadata": {
    "ExecuteTime": {
     "end_time": "2019-03-07T16:05:19.242076Z",
     "start_time": "2019-03-07T16:04:07.855894Z"
    },
    "scrolled": false
   },
   "outputs": [
    {
     "data": {
      "application/vnd.jupyter.widget-view+json": {
       "model_id": "3e301b89dee741daba6015486fea8e71",
       "version_major": 2,
       "version_minor": 0
      },
      "text/plain": [
       "HBox(children=(IntProgress(value=0, max=400), HTML(value='')))"
      ]
     },
     "metadata": {},
     "output_type": "display_data"
    },
    {
     "name": "stdout",
     "output_type": "stream",
     "text": [
      "0.961\n",
      "0.973\n",
      "0.977\n",
      "0.978\n",
      "0.979\n",
      "0.98\n",
      "0.981\n",
      "Loss reached plateu\n"
     ]
    },
    {
     "data": {
      "application/vnd.jupyter.widget-view+json": {
       "model_id": "8b4b4fecd9eb44ebba13c413ce759a2d",
       "version_major": 2,
       "version_minor": 0
      },
      "text/plain": [
       "HBox(children=(IntProgress(value=0, max=400), HTML(value='')))"
      ]
     },
     "metadata": {},
     "output_type": "display_data"
    },
    {
     "name": "stdout",
     "output_type": "stream",
     "text": [
      "Loss reached plateu\n"
     ]
    },
    {
     "data": {
      "application/vnd.jupyter.widget-view+json": {
       "model_id": "9efc452ab8ce4ab392306b7096c4dd81",
       "version_major": 2,
       "version_minor": 0
      },
      "text/plain": [
       "HBox(children=(IntProgress(value=0, max=400), HTML(value='')))"
      ]
     },
     "metadata": {},
     "output_type": "display_data"
    },
    {
     "name": "stdout",
     "output_type": "stream",
     "text": [
      "0.984\n",
      "0.986\n",
      "0.987\n",
      "Loss reached plateu\n"
     ]
    },
    {
     "data": {
      "application/vnd.jupyter.widget-view+json": {
       "model_id": "2fc3270d9c6748d68de06918fadb0e13",
       "version_major": 2,
       "version_minor": 0
      },
      "text/plain": [
       "HBox(children=(IntProgress(value=0, max=400), HTML(value='')))"
      ]
     },
     "metadata": {},
     "output_type": "display_data"
    },
    {
     "name": "stdout",
     "output_type": "stream",
     "text": [
      "Loss reached plateu\n"
     ]
    },
    {
     "data": {
      "application/vnd.jupyter.widget-view+json": {
       "model_id": "cd5e5d26c7db4044a7e7d30cf719fc7b",
       "version_major": 2,
       "version_minor": 0
      },
      "text/plain": [
       "HBox(children=(IntProgress(value=0, max=400), HTML(value='')))"
      ]
     },
     "metadata": {},
     "output_type": "display_data"
    },
    {
     "name": "stdout",
     "output_type": "stream",
     "text": [
      "Loss reached plateu\n"
     ]
    },
    {
     "data": {
      "application/vnd.jupyter.widget-view+json": {
       "model_id": "6db22f6033c141ef8b15a8359c6c3e09",
       "version_major": 2,
       "version_minor": 0
      },
      "text/plain": [
       "HBox(children=(IntProgress(value=0, max=400), HTML(value='')))"
      ]
     },
     "metadata": {},
     "output_type": "display_data"
    },
    {
     "name": "stdout",
     "output_type": "stream",
     "text": [
      "0.988\n",
      "Loss reached plateu\n"
     ]
    },
    {
     "data": {
      "application/vnd.jupyter.widget-view+json": {
       "model_id": "8ae6685411ae464fa5738874122c10d3",
       "version_major": 2,
       "version_minor": 0
      },
      "text/plain": [
       "HBox(children=(IntProgress(value=0, max=400), HTML(value='')))"
      ]
     },
     "metadata": {},
     "output_type": "display_data"
    },
    {
     "name": "stdout",
     "output_type": "stream",
     "text": [
      "Loss reached plateu\n"
     ]
    },
    {
     "data": {
      "application/vnd.jupyter.widget-view+json": {
       "model_id": "2587ef36e86846678788f8736595bbcb",
       "version_major": 2,
       "version_minor": 0
      },
      "text/plain": [
       "HBox(children=(IntProgress(value=0, max=400), HTML(value='')))"
      ]
     },
     "metadata": {},
     "output_type": "display_data"
    },
    {
     "name": "stdout",
     "output_type": "stream",
     "text": [
      "Loss reached plateu\n"
     ]
    },
    {
     "data": {
      "application/vnd.jupyter.widget-view+json": {
       "model_id": "ca9836a770244f8dab1d2f177dcea0a8",
       "version_major": 2,
       "version_minor": 0
      },
      "text/plain": [
       "HBox(children=(IntProgress(value=0, max=400), HTML(value='')))"
      ]
     },
     "metadata": {},
     "output_type": "display_data"
    },
    {
     "name": "stdout",
     "output_type": "stream",
     "text": [
      "Loss reached plateu\n"
     ]
    },
    {
     "data": {
      "application/vnd.jupyter.widget-view+json": {
       "model_id": "435f03ea9647488daccf5b8895b0e220",
       "version_major": 2,
       "version_minor": 0
      },
      "text/plain": [
       "HBox(children=(IntProgress(value=0, max=400), HTML(value='')))"
      ]
     },
     "metadata": {},
     "output_type": "display_data"
    },
    {
     "name": "stdout",
     "output_type": "stream",
     "text": [
      "Loss reached plateu\n"
     ]
    }
   ],
   "source": [
    "max_iter = 400\n",
    "\n",
    "# Считаем данные\n",
    "n_samples, n_features = train[\"data\"].shape\n",
    "X = np.column_stack((np.ones(n_samples), train[\"data\"].copy()))\n",
    "\n",
    "standardizer = StandardScaler()\n",
    "X = standardizer.fit_transform(X)\n",
    "\n",
    "# Приведём метки классов к {-1, 1}\n",
    "y = train[\"labels\"].copy()[:, None]\n",
    "y[y == 5] = -1\n",
    "y[y == 6] = 1\n",
    "\n",
    "acc_opt = 0\n",
    "weights_opt = None\n",
    "\n",
    "kf = KFold(n_splits=10)\n",
    "kf.get_n_splits(X)\n",
    "\n",
    "for train_index, test_index in kf.split(X):\n",
    "    X_train, X_test = X[train_index], X[test_index]\n",
    "    y_train, y_test = y[train_index], y[test_index]\n",
    "\n",
    "    # Выберем случайное начальное приближение вектора параметров\n",
    "    weights = np.random.normal(scale=1e-3, size=n_features + 1)[:, None]\n",
    "    tr_eval = []\n",
    "    te_eval = []\n",
    "    tolerance = 1e-7\n",
    "\n",
    "    for i in tqdm.tqdm_notebook(range(max_iter)):\n",
    "        grad = loss_grad_full(X_train, y_train, weights, regparam=0)\n",
    "        grad_norm = np.linalg.norm(grad) \n",
    "        if grad_norm < tolerance:\n",
    "            break\n",
    "\n",
    "        h = grad / grad_norm\n",
    "        tersearch_maxiter = 50\n",
    "        lo, hi = 0, 1\n",
    "        for _ in range(tersearch_maxiter):\n",
    "            left_third = (2 * lo + hi) / 3\n",
    "            right_third = (lo + 2 * hi) / 3\n",
    "            loss_left = log_loss(y_train, \n",
    "                                 predict(X_train, weights - left_third * h), \n",
    "                                 labels=[-1,1])\n",
    "            loss_right = log_loss(y_train, \n",
    "                                  predict(X_train, weights - right_third * h), \n",
    "                                  labels=[-1,1])\n",
    "            if -loss_left < -loss_right:\n",
    "                lo = left_third\n",
    "            else:\n",
    "                hi = right_third\n",
    "        lr_opt = (lo + hi) / 2\n",
    "\n",
    "        weights -= lr_opt * h\n",
    "        \n",
    "        y_train_pred = predict(X_train, weights)\n",
    "        tr_eval += [(log_loss(y_train, y_train_pred), \n",
    "                    accuracy(y_train, y_train_pred))]\n",
    "        \n",
    "        y_test_pred = predict(X_test, weights)\n",
    "        te_eval += [(log_loss(y_test, y_test_pred), \n",
    "                    accuracy(y_test, y_test_pred))]\n",
    "        \n",
    "        if te_eval[-1][1] > acc_opt:\n",
    "            acc_opt = te_eval[-1][1]\n",
    "            print(acc_opt)\n",
    "            weights_opt = weights\n",
    "            \n",
    "        if len(tr_eval) > 1 and np.abs(tr_eval[-1][0] - tr_eval[-2][0]) < tolerance:\n",
    "            print(\"Loss reached plateu\")\n",
    "            break"
   ]
  },
  {
   "cell_type": "code",
   "execution_count": 33,
   "metadata": {
    "ExecuteTime": {
     "end_time": "2019-03-07T16:05:51.387170Z",
     "start_time": "2019-03-07T16:05:50.979746Z"
    }
   },
   "outputs": [
    {
     "data": {
      "text/plain": [
       "<matplotlib.axes._subplots.AxesSubplot at 0x7f8330edf438>"
      ]
     },
     "execution_count": 33,
     "metadata": {},
     "output_type": "execute_result"
    },
    {
     "data": {
      "image/png": "[encoded data removed]",
      "text/plain": [
       "<Figure size 432x288 with 2 Axes>"
      ]
     },
     "metadata": {
      "needs_background": "light"
     },
     "output_type": "display_data"
    }
   ],
   "source": [
    "sns.heatmap(weights_opt[1:].reshape(28,28))"
   ]
  },
  {
   "cell_type": "code",
   "execution_count": 34,
   "metadata": {
    "ExecuteTime": {
     "end_time": "2019-03-07T16:05:53.253576Z",
     "start_time": "2019-03-07T16:05:53.246819Z"
    }
   },
   "outputs": [
    {
     "data": {
      "text/plain": [
       "DescribeResult(nobs=785, minmax=(array([-0.19587296]), array([0.33963776])), mean=array([-0.00279309]), variance=array([0.00408665]), skewness=array([0.94900331]), kurtosis=array([3.73179236]))"
      ]
     },
     "execution_count": 34,
     "metadata": {},
     "output_type": "execute_result"
    }
   ],
   "source": [
    "sps.describe(weights)"
   ]
  },
  {
   "cell_type": "markdown",
   "metadata": {},
   "source": [
    "# Оцениваем результат"
   ]
  },
  {
   "cell_type": "markdown",
   "metadata": {},
   "source": [
    "Обязательно отрисуйте 2 графика:\n",
    "- loss на обучающем и тестовом множесте\n",
    "- % правильно классифицированных примеров на тестовом и обучающем множестве"
   ]
  },
  {
   "cell_type": "code",
   "execution_count": 35,
   "metadata": {
    "ExecuteTime": {
     "end_time": "2019-03-07T16:05:55.338665Z",
     "start_time": "2019-03-07T16:05:55.069077Z"
    }
   },
   "outputs": [
    {
     "data": {
      "image/png": "[encoded data removed]",
      "text/plain": [
       "<Figure size 432x288 with 1 Axes>"
      ]
     },
     "metadata": {
      "needs_background": "light"
     },
     "output_type": "display_data"
    }
   ],
   "source": [
    "plt.title('Acc')\n",
    "plt.plot([e[1] for e in tr_eval], label='train')\n",
    "plt.plot([e[1] for e in te_eval], label='test')\n",
    "plt.legend();"
   ]
  },
  {
   "cell_type": "code",
   "execution_count": 36,
   "metadata": {
    "ExecuteTime": {
     "end_time": "2019-03-07T16:05:56.457205Z",
     "start_time": "2019-03-07T16:05:56.203450Z"
    }
   },
   "outputs": [
    {
     "data": {
      "image/png": "[encoded data removed]",
      "text/plain": [
       "<Figure size 432x288 with 1 Axes>"
      ]
     },
     "metadata": {
      "needs_background": "light"
     },
     "output_type": "display_data"
    }
   ],
   "source": [
    "plt.title('Loss')\n",
    "plt.plot([e[0] for e in tr_eval], label='train')\n",
    "plt.plot([e[0] for e in te_eval], label='test')\n",
    "plt.legend();"
   ]
  },
  {
   "cell_type": "markdown",
   "metadata": {},
   "source": [
    "# Сохраняем данные для кагла"
   ]
  },
  {
   "cell_type": "markdown",
   "metadata": {},
   "source": [
    "https://www.kaggle.com/t/513ea517806348848dc78c4f41d44528"
   ]
  },
  {
   "cell_type": "markdown",
   "metadata": {},
   "source": [
    "Результат записывается в простой текстовый файл. Первая строчка \"Id,Prediction\", далее для каждого примера из валидационного множества записывается его Id (порядковый номер, с нуля) и вероятность принадлежности к классу '6', например '123,0.12'.\n",
    "\n",
    "Важно соблюдать тот же порядок следования элементов, что и в наборе данных. Нумерация id с 0"
   ]
  },
  {
   "cell_type": "code",
   "execution_count": 39,
   "metadata": {
    "ExecuteTime": {
     "end_time": "2019-03-07T16:06:11.287337Z",
     "start_time": "2019-03-07T16:06:11.214022Z"
    }
   },
   "outputs": [],
   "source": [
    "te_X = test_no_lables['data']\n",
    "te_X = np.column_stack((np.ones(te_X.shape[0]), te_X))\n",
    "te_X = standardizer.transform(te_X)\n",
    "te_y_pred = logit(te_X, weights_opt)\n",
    "\n",
    "with open('solution_fullgrad_no_reg_400_iters_max_acc.csv', 'w') as fout:\n",
    "    print(\"Id,Prediction\", file=fout)\n",
    "    for i in range(te_y_pred.size):\n",
    "        print(i, *te_y_pred[i], sep=',', file=fout)"
   ]
  },
  {
   "cell_type": "code",
   "execution_count": 40,
   "metadata": {
    "ExecuteTime": {
     "end_time": "2019-03-07T16:06:12.438236Z",
     "start_time": "2019-03-07T16:06:12.168947Z"
    }
   },
   "outputs": [
    {
     "data": {
      "image/png": "[encoded data removed]",
      "text/plain": [
       "<Figure size 432x288 with 1 Axes>"
      ]
     },
     "metadata": {
      "needs_background": "light"
     },
     "output_type": "display_data"
    }
   ],
   "source": [
    "bins, _, _ = plt.hist(te_y_pred)"
   ]
  },
  {
   "cell_type": "markdown",
   "metadata": {},
   "source": [
    "# Сдача"
   ]
  },
  {
   "cell_type": "markdown",
   "metadata": {},
   "source": [
    "1. Регистрируетесь на конкурс https://www.kaggle.com/t/34e77301ef914c5792e4f4306144a6b3 \n",
    "1. Преодолеваете \"Pass level\" baseline\n",
    "1. После того, как вы преодолеете baseline, присылайте ноутбук с решение по адресу **voropaev@corp.mail.ru**\n",
    "\n",
    "# Внимание\n",
    "- Тему письма писать в формате \"[МФТИ][1] Фамилия\"\n",
    "- Внутри писма прикрепляете файл ноутбука с именем <ваша фамилия>.ipynb"
   ]
  }
 ],
 "metadata": {
  "kernelspec": {
   "display_name": "Python 3",
   "language": "python",
   "name": "python3"
  },
  "language_info": {
   "codemirror_mode": {
    "name": "ipython",
    "version": 3
   },
   "file_extension": ".py",
   "mimetype": "text/x-python",
   "name": "python",
   "nbconvert_exporter": "python",
   "pygments_lexer": "ipython3",
   "version": "3.5.5"
  },
  "varInspector": {
   "cols": {
    "lenName": 16,
    "lenType": 16,
    "lenVar": 40
   },
   "kernels_config": {
    "python": {
     "delete_cmd_postfix": "",
     "delete_cmd_prefix": "del ",
     "library": "var_list.py",
     "varRefreshCmd": "print(var_dic_list())"
    },
    "r": {
     "delete_cmd_postfix": ") ",
     "delete_cmd_prefix": "rm(",
     "library": "var_list.r",
     "varRefreshCmd": "cat(var_dic_list()) "
    }
   },
   "types_to_exclude": [
    "module",
    "function",
    "builtin_function_or_method",
    "instance",
    "_Feature"
   ],
   "window_display": false
  }
 },
 "nbformat": 4,
 "nbformat_minor": 2
}
