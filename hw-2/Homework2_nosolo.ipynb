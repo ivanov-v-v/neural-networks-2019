{
 "cells": [
  {
   "cell_type": "code",
   "execution_count": 45,
   "metadata": {
    "ExecuteTime": {
     "end_time": "2019-03-13T13:59:13.479538Z",
     "start_time": "2019-03-13T13:59:13.472148Z"
    }
   },
   "outputs": [],
   "source": [
    "import numpy as np\n",
    "import matplotlib.pyplot as plt\n",
    "import pickle\n",
    "import scipy as sp\n",
    "\n",
    "%matplotlib inline"
   ]
  },
  {
   "cell_type": "code",
   "execution_count": 2,
   "metadata": {
    "ExecuteTime": {
     "end_time": "2019-03-13T10:17:47.117691Z",
     "start_time": "2019-03-13T10:17:47.109006Z"
    }
   },
   "outputs": [],
   "source": [
    "# класс one-hot encoder'а для MNIST\n",
    "class OneHotEncoder:\n",
    "    def __init__(self):\n",
    "        self.transform_mapping = np.zeros((10,10))\n",
    "        for i in range(self.transform_mapping.shape[0]):\n",
    "            self.transform_mapping[i][i] = 1.0\n",
    "    def transform(self, y):\n",
    "        return self.transform_mapping[int(y)]"
   ]
  },
  {
   "cell_type": "code",
   "execution_count": 3,
   "metadata": {
    "ExecuteTime": {
     "end_time": "2019-03-13T10:17:48.104709Z",
     "start_time": "2019-03-13T10:17:48.095432Z"
    }
   },
   "outputs": [],
   "source": [
    "def make_submission(X_test, net, fname=\"my_submission.csv\"):\n",
    "    with open(fname,'w') as fout:\n",
    "        fout.write('Id,Category')\n",
    "        for i in range(X_test.shape[0]):\n",
    "            y_h = net.forward(X_test[i])\n",
    "            y = np.argmax(y_h)\n",
    "            fout.write(\"\\n{},{}\".format(i, int(y)))"
   ]
  },
  {
   "cell_type": "code",
   "execution_count": 4,
   "metadata": {
    "ExecuteTime": {
     "end_time": "2019-03-13T10:17:49.339524Z",
     "start_time": "2019-03-13T10:17:49.332296Z"
    }
   },
   "outputs": [],
   "source": [
    "# внимание, тут Y_test в обычном формате(не onehot)\n",
    "def compute_acc(X_test, Y_test, net):\n",
    "    acc = 0.0\n",
    "    for i in range(X_test.shape[0]):\n",
    "        y_h = net.forward(X_test[i])\n",
    "        y = np.argmax(y_h)\n",
    "        if(y == Y_test[i]):\n",
    "            acc += 1.0\n",
    "    return acc / Y_test.shape[0]"
   ]
  },
  {
   "cell_type": "code",
   "execution_count": 42,
   "metadata": {
    "ExecuteTime": {
     "end_time": "2019-03-13T13:52:35.854414Z",
     "start_time": "2019-03-13T13:52:35.731313Z"
    }
   },
   "outputs": [],
   "source": [
    "train_data = None\n",
    "test_data = None\n",
    "encoder = OneHotEncoder()\n",
    "\n",
    "with open('data_train.pickle', 'rb') as fin:\n",
    "    train_data = pickle.load(fin)\n",
    "with open('data_test_no_labels.pickle', 'rb') as fin:\n",
    "    test_data = pickle.load(fin)\n",
    "    \n",
    "X_marked = train_data['data']\n",
    "Y_marked = train_data['target']\n",
    "Y_marked_oh = np.array([encoder.transform(y) for y in Y_marked])\n",
    "\n",
    "X_not_marked = test_data['data']"
   ]
  },
  {
   "cell_type": "code",
   "execution_count": 23,
   "metadata": {
    "ExecuteTime": {
     "end_time": "2019-03-13T11:07:26.021586Z",
     "start_time": "2019-03-13T11:07:24.515644Z"
    }
   },
   "outputs": [
    {
     "data": {
      "image/png": "[encoded data removed]",
      "text/plain": [
       "<Figure size 432x288 with 16 Axes>"
      ]
     },
     "metadata": {
      "needs_background": "light"
     },
     "output_type": "display_data"
    }
   ],
   "source": [
    "n = 4\n",
    "for i in range(n*n):\n",
    "    plt.subplot(n, n, i + 1)\n",
    "    I = train_data['data'][np.random.randint(0, X_marked.shape[0]),:]\n",
    "    I = I.reshape((28, 28))\n",
    "    plt.imshow(I, cmap='gray')"
   ]
  },
  {
   "cell_type": "code",
   "execution_count": 24,
   "metadata": {
    "ExecuteTime": {
     "end_time": "2019-03-13T11:07:26.134037Z",
     "start_time": "2019-03-13T11:07:26.131441Z"
    }
   },
   "outputs": [],
   "source": [
    "from sklearn.model_selection import train_test_split\n",
    "from sklearn.preprocessing import StandardScaler"
   ]
  },
  {
   "cell_type": "code",
   "execution_count": 33,
   "metadata": {
    "ExecuteTime": {
     "end_time": "2019-03-13T13:23:23.101883Z",
     "start_time": "2019-03-13T13:23:21.439090Z"
    }
   },
   "outputs": [
    {
     "name": "stderr",
     "output_type": "stream",
     "text": [
      "/home/common/ivanov.vv/anaconda3/lib/python3.5/site-packages/sklearn/utils/validation.py:590: DataConversionWarning: Data with input dtype uint8 was converted to float64 by StandardScaler.\n",
      "  warnings.warn(msg, DataConversionWarning)\n",
      "/home/common/ivanov.vv/anaconda3/lib/python3.5/site-packages/sklearn/utils/validation.py:590: DataConversionWarning: Data with input dtype uint8 was converted to float64 by StandardScaler.\n",
      "  warnings.warn(msg, DataConversionWarning)\n",
      "/home/common/ivanov.vv/anaconda3/lib/python3.5/site-packages/sklearn/utils/validation.py:590: DataConversionWarning: Data with input dtype uint8 was converted to float64 by StandardScaler.\n",
      "  warnings.warn(msg, DataConversionWarning)\n"
     ]
    }
   ],
   "source": [
    "# Подготовка датасета\n",
    "X_train, X_test, y_train, y_test = train_test_split(X_marked, Y_marked_oh, \n",
    "                                                    test_size=0.05, \n",
    "                                                    stratify=Y_marked_oh, \n",
    "                                                    random_state=42)\n",
    "scaler = StandardScaler()\n",
    "X_train = scaler.fit_transform(X_train)\n",
    "X_test = scaler.transform(X_test)\n",
    "X_not_marked = scaler.transform(X_not_marked)"
   ]
  },
  {
   "cell_type": "code",
   "execution_count": 34,
   "metadata": {
    "ExecuteTime": {
     "end_time": "2019-03-13T13:23:24.991047Z",
     "start_time": "2019-03-13T13:23:24.985918Z"
    }
   },
   "outputs": [],
   "source": [
    "class ReLU:\n",
    "    def forward(self, x):\n",
    "        self.x = x\n",
    "        return np.maximum(0, x)\n",
    "    \n",
    "    def backward(self, dz, lr=0.1):\n",
    "        dz[self.x < 0] = 0\n",
    "        return dz"
   ]
  },
  {
   "cell_type": "code",
   "execution_count": 35,
   "metadata": {
    "ExecuteTime": {
     "end_time": "2019-03-13T13:23:25.720590Z",
     "start_time": "2019-03-13T13:23:25.713828Z"
    }
   },
   "outputs": [],
   "source": [
    "class Softmax:\n",
    "    def forward(self, x):\n",
    "        \"\"\"\n",
    "        x — numpy.array\n",
    "        \"\"\"\n",
    "        exps = np.exp(x - x.max()) # вектор-столбец\n",
    "        self.softmax = exps / np.sum(exps, axis=0) \n",
    "        return self.softmax\n",
    "    \n",
    "    def backward(self, dz, lr=0.001):\n",
    "        softmax = self.softmax[:, None]\n",
    "        jacobi_mx = np.diagflat(softmax) - softmax @ softmax.T\n",
    "        return jacobi_mx @ dz"
   ]
  },
  {
   "cell_type": "code",
   "execution_count": 36,
   "metadata": {
    "ExecuteTime": {
     "end_time": "2019-03-13T13:23:26.527499Z",
     "start_time": "2019-03-13T13:23:26.520959Z"
    }
   },
   "outputs": [],
   "source": [
    "class CrossEntropy:\n",
    "    def forward(self, y_true, y_pred):\n",
    "        \"\"\"\n",
    "        y_true, y_pred — numpy.matrix of shape (n, 1)\n",
    "        \"\"\"\n",
    "        self.y_true = y_true\n",
    "        self.y_pred = y_pred\n",
    "        return -np.sum(y_true * np.log(y_pred), axis=0)\n",
    "    \n",
    "    def backward(self, dz, lr=0.001):\n",
    "        return -(self.y_true / self.y_pred).T * dz"
   ]
  },
  {
   "cell_type": "code",
   "execution_count": 37,
   "metadata": {
    "ExecuteTime": {
     "end_time": "2019-03-13T13:23:27.728817Z",
     "start_time": "2019-03-13T13:23:27.719722Z"
    }
   },
   "outputs": [],
   "source": [
    "# Определение слоев сети\n",
    "class Dense:\n",
    "    def __init__(self, in_size, out_size, rlambda = 0.0):\n",
    "        self.W = (np.random.normal(scale=1, size=(out_size, in_size)) \n",
    "                  * np.sqrt(2/(out_size + in_size)))\n",
    "        self.b = np.zeros(out_size)\n",
    "        self.rlambda = rlambda\n",
    "        \n",
    "    def forward(self, x):\n",
    "        self.x = x # запоминаем для обратного прохода\n",
    "        return np.dot(self.W, x) + self.b\n",
    "    \n",
    "    def get_reg_loss(self):\n",
    "        return 0.5 * self.rlambda * (np.linalg.norm(self.W, ord='fro') ** 2)\n",
    "    \n",
    "    def backward(self, dz, lr=0.001):\n",
    "        # вычисляем градиенты по параметрам (запоминаем их для отладки)\n",
    "        self.dW = np.outer(dz, self.x)\n",
    "        self.db = dz\n",
    "        # вычисляем производную по входу\n",
    "        self.dx = np.matmul(dz, self.W)\n",
    "        # рассчитываем градиенты от регуляризатора\n",
    "        if(self.rlambda != 0):\n",
    "            self.dW += self.rlambda * self.W\n",
    "        # обновляем веса\n",
    "        self.W = self.W - lr * self.dW\n",
    "        self.b = self.b - lr * self.db\n",
    "        # возвращаем dx для продолжения алгоритма\n",
    "        return self.dx"
   ]
  },
  {
   "cell_type": "code",
   "execution_count": 49,
   "metadata": {
    "ExecuteTime": {
     "end_time": "2019-03-13T16:14:44.852615Z",
     "start_time": "2019-03-13T16:14:44.837424Z"
    }
   },
   "outputs": [],
   "source": [
    "# Опеределение самой сети\n",
    "class MnistNet:\n",
    "    def __init__(self, rlambda):\n",
    "        self.d1 = Dense(28 * 28, 256, rlambda)\n",
    "        self.m1 = ReLU()\n",
    "        self.d2 = Dense(256, 128, rlambda)\n",
    "        self.m2 = ReLU()\n",
    "        self.d3 = Dense(128, 64, rlambda)\n",
    "        self.m3 = ReLU()\n",
    "        self.d4 = Dense(64, 10, rlambda)\n",
    "        self.m4 = ReLU()\n",
    "        self.s = Softmax()\n",
    "    \n",
    "    def forward(self, x):\n",
    "        net = self.d1.forward(x)\n",
    "        net = self.m1.forward(net)\n",
    "        net = self.d2.forward(net)\n",
    "        net = self.m2.forward(net)\n",
    "        net = self.d3.forward(net)\n",
    "        net = self.m3.forward(net)\n",
    "        net = self.d4.forward(net)\n",
    "        net = self.m4.forward(net)\n",
    "        net = self.s.forward(net)\n",
    "        return net\n",
    "    \n",
    "    def backward(self, dz, lr):\n",
    "        dz = self.s.backward(dz, lr)\n",
    "        dz = self.m4.backward(dz, lr)\n",
    "        dz = self.d4.backward(dz, lr)\n",
    "        dz = self.m3.backward(dz, lr)\n",
    "        dz = self.d3.backward(dz, lr)\n",
    "        dz = self.m2.backward(dz, lr)\n",
    "        dz = self.d2.backward(dz, lr)\n",
    "        dz = self.m1.backward(dz, lr)\n",
    "        dz = self.d1.backward(dz, lr)\n",
    "        return dz\n",
    "    \n",
    "    def get_reg_loss(self):\n",
    "        return self.d1.get_reg_loss() + self.d2.get_reg_loss()"
   ]
  },
  {
   "cell_type": "code",
   "execution_count": 62,
   "metadata": {
    "ExecuteTime": {
     "end_time": "2019-03-13T20:00:49.685483Z",
     "start_time": "2019-03-13T17:08:56.151881Z"
    }
   },
   "outputs": [
    {
     "data": {
      "application/vnd.jupyter.widget-view+json": {
       "model_id": "8b5aa38315a2470880ccdf995000c2ef",
       "version_major": 2,
       "version_minor": 0
      },
      "text/plain": [
       "HBox(children=(IntProgress(value=0, max=400), HTML(value='')))"
      ]
     },
     "metadata": {},
     "output_type": "display_data"
    },
    {
     "name": "stdout",
     "output_type": "stream",
     "text": [
      "0 epoch loss. Train : 0.676265979057649 . Test : 8.81977372241511e-05\n",
      "0 epoch acc. Train : 0.8731428571428571 . Test : 0.928\n",
      "1 epoch loss. Train : 0.34000152443356263 . Test : 6.394083593495685e-05\n",
      "1 epoch acc. Train : 0.9597794486215538 . Test : 0.9539047619047619\n",
      "2 epoch loss. Train : 0.24232305238493182 . Test : 4.979603375802378e-05\n",
      "2 epoch acc. Train : 0.9712681704260652 . Test : 0.964952380952381\n",
      "3 epoch loss. Train : 0.19581626273047556 . Test : 4.1983725854621764e-05\n",
      "3 epoch acc. Train : 0.9773233082706767 . Test : 0.9588571428571429\n",
      "4 epoch loss. Train : 0.15898912022835568 . Test : 3.5352806980475014e-05\n",
      "4 epoch acc. Train : 0.9823959899749374 . Test : 0.9699047619047619\n",
      "5 epoch loss. Train : 0.13695676257095146 . Test : 3.15794369709744e-05\n",
      "5 epoch acc. Train : 0.9857243107769423 . Test : 0.9615238095238096\n",
      "6 epoch loss. Train : 0.11998621038318931 . Test : 2.895213072763623e-05\n",
      "6 epoch acc. Train : 0.9879097744360902 . Test : 0.9687619047619047\n",
      "7 epoch loss. Train : 0.11325961618088198 . Test : 2.702495352554982e-05\n",
      "7 epoch acc. Train : 0.9884711779448622 . Test : 0.9664761904761905\n",
      "8 epoch loss. Train : 0.10277067944827799 . Test : 2.4914191871859915e-05\n",
      "8 epoch acc. Train : 0.991218045112782 . Test : 0.9748571428571429\n",
      "9 epoch loss. Train : 0.09246141949149499 . Test : 2.355800864657929e-05\n",
      "9 epoch acc. Train : 0.9923809523809524 . Test : 0.9748571428571429\n",
      "10 epoch loss. Train : 0.08474193976210216 . Test : 2.199154624722744e-05\n",
      "10 epoch acc. Train : 0.9932832080200501 . Test : 0.9695238095238096\n",
      "11 epoch loss. Train : 0.07917080741994591 . Test : 2.058430142202458e-05\n",
      "11 epoch acc. Train : 0.9937042606516291 . Test : 0.9744761904761905\n",
      "12 epoch loss. Train : 0.07805934619202605 . Test : 1.9934792198741803e-05\n",
      "12 epoch acc. Train : 0.9939448621553885 . Test : 0.9748571428571429\n",
      "13 epoch loss. Train : 0.07216209039814535 . Test : 1.9250686823322645e-05\n",
      "13 epoch acc. Train : 0.9949874686716792 . Test : 0.9706666666666667\n",
      "14 epoch loss. Train : 0.07589254213173445 . Test : 1.916139736796701e-05\n",
      "14 epoch acc. Train : 0.9940451127819548 . Test : 0.9733333333333334\n",
      "15 epoch loss. Train : 0.07294318292985716 . Test : 1.9028030255722788e-05\n",
      "15 epoch acc. Train : 0.9944260651629072 . Test : 0.9744761904761905\n",
      "16 epoch loss. Train : 0.07222178232705387 . Test : 1.857514509938034e-05\n",
      "16 epoch acc. Train : 0.9958295739348371 . Test : 0.9763809523809523\n",
      "17 epoch loss. Train : 0.06949055160830837 . Test : 1.8019779729626712e-05\n",
      "17 epoch acc. Train : 0.9958295739348371 . Test : 0.9752380952380952\n",
      "18 epoch loss. Train : 0.06850912767951327 . Test : 1.7692848438142377e-05\n",
      "18 epoch acc. Train : 0.9955488721804512 . Test : 0.9763809523809523\n",
      "19 epoch loss. Train : 0.07045789270377677 . Test : 1.839705171543706e-05\n",
      "19 epoch acc. Train : 0.9951879699248121 . Test : 0.976\n",
      "20 epoch loss. Train : 0.06776149801549167 . Test : 1.7732229299962073e-05\n",
      "20 epoch acc. Train : 0.9961303258145363 . Test : 0.9740952380952381\n",
      "21 epoch loss. Train : 0.06031616938294124 . Test : 1.68912344277608e-05\n",
      "21 epoch acc. Train : 0.9970726817042607 . Test : 0.9752380952380952\n",
      "22 epoch loss. Train : 0.060280488976824996 . Test : 1.644862867178359e-05\n",
      "22 epoch acc. Train : 0.9972330827067669 . Test : 0.9756190476190476\n",
      "23 epoch loss. Train : 0.058170564363243596 . Test : 1.6334921929850702e-05\n",
      "23 epoch acc. Train : 0.9976942355889724 . Test : 0.9756190476190476\n",
      "24 epoch loss. Train : 0.06747338358013667 . Test : 1.7314572631969376e-05\n",
      "24 epoch acc. Train : 0.9960501253132832 . Test : 0.9706666666666667\n",
      "25 epoch loss. Train : 0.06203043000192396 . Test : 1.6914495368152864e-05\n",
      "25 epoch acc. Train : 0.9970526315789474 . Test : 0.9744761904761905\n",
      "26 epoch loss. Train : 0.06004524397239751 . Test : 1.65995520363297e-05\n",
      "26 epoch acc. Train : 0.9971328320802005 . Test : 0.976\n",
      "27 epoch loss. Train : 0.05939641702808678 . Test : 1.6302157906982714e-05\n",
      "27 epoch acc. Train : 0.9968320802005013 . Test : 0.9756190476190476\n",
      "28 epoch loss. Train : 0.05725835258035238 . Test : 1.578578916848217e-05\n",
      "28 epoch acc. Train : 0.9975538847117794 . Test : 0.9756190476190476\n",
      "29 epoch loss. Train : 0.053059391366450256 . Test : 1.519002814121397e-05\n",
      "29 epoch acc. Train : 0.9986165413533835 . Test : 0.9801904761904762\n",
      "30 epoch loss. Train : 0.052348464515977716 . Test : 1.4823282127549193e-05\n",
      "30 epoch acc. Train : 0.9982957393483709 . Test : 0.976\n",
      "31 epoch loss. Train : 0.051325415069066266 . Test : 1.4369813034617506e-05\n",
      "31 epoch acc. Train : 0.9980751879699248 . Test : 0.9752380952380952\n",
      "32 epoch loss. Train : 0.047348212937465925 . Test : 1.3884579690922578e-05\n",
      "32 epoch acc. Train : 0.9990175438596491 . Test : 0.9748571428571429\n",
      "33 epoch loss. Train : 0.049100117471272325 . Test : 1.3702665213282135e-05\n",
      "33 epoch acc. Train : 0.9987368421052631 . Test : 0.9786666666666667\n",
      "34 epoch loss. Train : 0.05119110713842891 . Test : 1.3679825714323771e-05\n",
      "34 epoch acc. Train : 0.9979749373433584 . Test : 0.9771428571428571\n",
      "35 epoch loss. Train : 0.047974511772561346 . Test : 1.3451161006689525e-05\n",
      "35 epoch acc. Train : 0.9987167919799499 . Test : 0.979047619047619\n",
      "36 epoch loss. Train : 0.04811670526058536 . Test : 1.3297009260377111e-05\n",
      "36 epoch acc. Train : 0.9982756892230576 . Test : 0.9794285714285714\n",
      "37 epoch loss. Train : 0.04778873393342485 . Test : 1.3243634879990243e-05\n",
      "37 epoch acc. Train : 0.9980751879699248 . Test : 0.9782857142857143\n",
      "38 epoch loss. Train : 0.04874860655686026 . Test : 1.3290322278061254e-05\n",
      "38 epoch acc. Train : 0.9981954887218045 . Test : 0.9794285714285714\n",
      "39 epoch loss. Train : 0.04515845963012637 . Test : 1.2981580618510119e-05\n",
      "39 epoch acc. Train : 0.9989172932330828 . Test : 0.9798095238095238\n",
      "40 epoch loss. Train : 0.042547312383208274 . Test : 1.265031396686975e-05\n",
      "40 epoch acc. Train : 0.9993784461152883 . Test : 0.9786666666666667\n",
      "41 epoch loss. Train : 0.04269244028051272 . Test : 1.2539578414824094e-05\n",
      "41 epoch acc. Train : 0.9990576441102756 . Test : 0.9756190476190476\n",
      "42 epoch loss. Train : 0.05249303994012567 . Test : 1.3019706249494437e-05\n",
      "42 epoch acc. Train : 0.9972531328320802 . Test : 0.9752380952380952\n",
      "43 epoch loss. Train : 0.05274726775739882 . Test : 1.342180295262939e-05\n",
      "43 epoch acc. Train : 0.9970125313283208 . Test : 0.9744761904761905\n",
      "44 epoch loss. Train : 0.048003827017225685 . Test : 1.3273490194835776e-05\n",
      "44 epoch acc. Train : 0.9982155388471178 . Test : 0.9775238095238096\n",
      "45 epoch loss. Train : 0.044631694710270474 . Test : 1.2903308637808851e-05\n",
      "45 epoch acc. Train : 0.9990175438596491 . Test : 0.9782857142857143\n",
      "46 epoch loss. Train : 0.041930515016120995 . Test : 1.2484960485878616e-05\n",
      "46 epoch acc. Train : 0.9993383458646616 . Test : 0.9786666666666667\n",
      "47 epoch loss. Train : 0.04049927847537416 . Test : 1.216185726397949e-05\n",
      "47 epoch acc. Train : 0.9993784461152883 . Test : 0.9794285714285714\n",
      "48 epoch loss. Train : 0.04056204024167571 . Test : 1.192537925331034e-05\n",
      "48 epoch acc. Train : 0.9991979949874686 . Test : 0.9763809523809523\n",
      "49 epoch loss. Train : 0.04049331439070014 . Test : 1.1732467001947605e-05\n",
      "49 epoch acc. Train : 0.999218045112782 . Test : 0.9775238095238096\n",
      "50 epoch loss. Train : 0.03915690634131861 . Test : 1.1526131581374952e-05\n",
      "50 epoch acc. Train : 0.9995388471177945 . Test : 0.9801904761904762\n",
      "51 epoch loss. Train : 0.03795738310561654 . Test : 1.1345380201269333e-05\n",
      "51 epoch acc. Train : 0.9994987468671679 . Test : 0.9801904761904762\n",
      "52 epoch loss. Train : 0.03820427257801965 . Test : 1.1181229717957454e-05\n",
      "52 epoch acc. Train : 0.9993383458646616 . Test : 0.9794285714285714\n",
      "53 epoch loss. Train : 0.03743404963227464 . Test : 1.1081600276810498e-05\n",
      "53 epoch acc. Train : 0.9994586466165414 . Test : 0.979047619047619\n",
      "54 epoch loss. Train : 0.038102477046495206 . Test : 1.0987380171676393e-05\n",
      "54 epoch acc. Train : 0.9993583959899749 . Test : 0.9779047619047619\n",
      "55 epoch loss. Train : 0.038028449078015086 . Test : 1.0940180001849658e-05\n",
      "55 epoch acc. Train : 0.9993583959899749 . Test : 0.979047619047619\n",
      "56 epoch loss. Train : 0.038791574601951075 . Test : 1.0942024578210774e-05\n",
      "56 epoch acc. Train : 0.9993984962406015 . Test : 0.9775238095238096\n",
      "57 epoch loss. Train : 0.03998772862560022 . Test : 1.1088138103919566e-05\n",
      "57 epoch acc. Train : 0.9987167919799499 . Test : 0.9794285714285714\n"
     ]
    },
    {
     "name": "stdout",
     "output_type": "stream",
     "text": [
      "58 epoch loss. Train : 0.03923375644202757 . Test : 1.1094755100498404e-05\n",
      "58 epoch acc. Train : 0.9991378446115288 . Test : 0.9798095238095238\n",
      "59 epoch loss. Train : 0.04105763467811566 . Test : 1.1221279949744052e-05\n",
      "59 epoch acc. Train : 0.99865664160401 . Test : 0.9782857142857143\n",
      "60 epoch loss. Train : 0.03937331892484736 . Test : 1.1222458002745623e-05\n",
      "60 epoch acc. Train : 0.999077694235589 . Test : 0.979047619047619\n",
      "61 epoch loss. Train : 0.03946733452804784 . Test : 1.1198883263938283e-05\n",
      "61 epoch acc. Train : 0.9990977443609023 . Test : 0.9779047619047619\n",
      "62 epoch loss. Train : 0.046391912377551976 . Test : 1.1746964070256505e-05\n",
      "62 epoch acc. Train : 0.9977744360902255 . Test : 0.976\n",
      "63 epoch loss. Train : 0.049957767667832165 . Test : 1.2213952170347598e-05\n",
      "63 epoch acc. Train : 0.997734335839599 . Test : 0.9763809523809523\n",
      "64 epoch loss. Train : 0.04812754757935526 . Test : 1.2309989915734542e-05\n",
      "64 epoch acc. Train : 0.9984761904761905 . Test : 0.9771428571428571\n",
      "65 epoch loss. Train : 0.042353990222586464 . Test : 1.2096384856192876e-05\n",
      "65 epoch acc. Train : 0.9990375939849624 . Test : 0.9782857142857143\n",
      "66 epoch loss. Train : 0.039303833725922145 . Test : 1.1814929246923215e-05\n",
      "66 epoch acc. Train : 0.9994586466165414 . Test : 0.979047619047619\n",
      "67 epoch loss. Train : 0.03804634618165021 . Test : 1.1568581886932498e-05\n",
      "67 epoch acc. Train : 0.9996992481203008 . Test : 0.9798095238095238\n",
      "68 epoch loss. Train : 0.03820182360183986 . Test : 1.1337171671180032e-05\n",
      "68 epoch acc. Train : 0.9996390977443609 . Test : 0.9779047619047619\n",
      "69 epoch loss. Train : 0.03869948385372753 . Test : 1.1215445742498445e-05\n",
      "69 epoch acc. Train : 0.999438596491228 . Test : 0.9794285714285714\n",
      "70 epoch loss. Train : 0.0369106744750915 . Test : 1.1091344323901234e-05\n",
      "70 epoch acc. Train : 0.9996190476190476 . Test : 0.9748571428571429\n",
      "71 epoch loss. Train : 0.03739520095109991 . Test : 1.0934841692195722e-05\n",
      "71 epoch acc. Train : 0.9995989974937344 . Test : 0.9801904761904762\n",
      "72 epoch loss. Train : 0.036231886496456006 . Test : 1.0793618314664458e-05\n",
      "72 epoch acc. Train : 0.9996390977443609 . Test : 0.9798095238095238\n",
      "73 epoch loss. Train : 0.03587310102061692 . Test : 1.0658068221983894e-05\n",
      "73 epoch acc. Train : 0.9996791979949875 . Test : 0.979047619047619\n",
      "74 epoch loss. Train : 0.035319161636137755 . Test : 1.0548497020617188e-05\n",
      "74 epoch acc. Train : 0.9996791979949875 . Test : 0.9779047619047619\n",
      "75 epoch loss. Train : 0.03521710215381333 . Test : 1.0471943301882647e-05\n",
      "75 epoch acc. Train : 0.9996591478696741 . Test : 0.979047619047619\n",
      "76 epoch loss. Train : 0.03501422821224582 . Test : 1.0408322666852095e-05\n",
      "76 epoch acc. Train : 0.9996390977443609 . Test : 0.9779047619047619\n",
      "77 epoch loss. Train : 0.03594918158003448 . Test : 1.0403729742290441e-05\n",
      "77 epoch acc. Train : 0.999438596491228 . Test : 0.9782857142857143\n",
      "78 epoch loss. Train : 0.04178651656268007 . Test : 1.068158647051213e-05\n",
      "78 epoch acc. Train : 0.9987167919799499 . Test : 0.9805714285714285\n",
      "79 epoch loss. Train : 0.04085438958517184 . Test : 1.0738406092361252e-05\n",
      "79 epoch acc. Train : 0.9986967418546366 . Test : 0.9798095238095238\n",
      "80 epoch loss. Train : 0.03982651655275558 . Test : 1.0879305980882423e-05\n",
      "80 epoch acc. Train : 0.9989974937343359 . Test : 0.9771428571428571\n",
      "81 epoch loss. Train : 0.04457685160653682 . Test : 1.1110802005149251e-05\n",
      "81 epoch acc. Train : 0.9985363408521303 . Test : 0.979047619047619\n",
      "82 epoch loss. Train : 0.0432975917077171 . Test : 1.1404693902955328e-05\n",
      "82 epoch acc. Train : 0.9987167919799499 . Test : 0.9775238095238096\n",
      "83 epoch loss. Train : 0.042430615442638035 . Test : 1.1500151981323824e-05\n",
      "83 epoch acc. Train : 0.9986365914786968 . Test : 0.979047619047619\n",
      "84 epoch loss. Train : 0.0412703789612389 . Test : 1.1448897387934119e-05\n",
      "84 epoch acc. Train : 0.9991378446115288 . Test : 0.9798095238095238\n",
      "85 epoch loss. Train : 0.03932088144431855 . Test : 1.1291688074826617e-05\n",
      "85 epoch acc. Train : 0.9992781954887218 . Test : 0.979047619047619\n",
      "86 epoch loss. Train : 0.03851488124673853 . Test : 1.1226408661889409e-05\n",
      "86 epoch acc. Train : 0.9993984962406015 . Test : 0.9775238095238096\n",
      "87 epoch loss. Train : 0.03790391609522506 . Test : 1.1085891620115952e-05\n",
      "87 epoch acc. Train : 0.9993984962406015 . Test : 0.9771428571428571\n",
      "88 epoch loss. Train : 0.036458949775931324 . Test : 1.0897236544636533e-05\n",
      "88 epoch acc. Train : 0.9996390977443609 . Test : 0.9813333333333333\n",
      "89 epoch loss. Train : 0.035832781149333956 . Test : 1.075741342111883e-05\n",
      "89 epoch acc. Train : 0.9996791979949875 . Test : 0.9771428571428571\n",
      "90 epoch loss. Train : 0.03532301646529306 . Test : 1.0634569169120064e-05\n",
      "90 epoch acc. Train : 0.9997393483709274 . Test : 0.9809523809523809\n",
      "91 epoch loss. Train : 0.03579546385385632 . Test : 1.0547001604223984e-05\n",
      "91 epoch acc. Train : 0.9994586466165414 . Test : 0.9813333333333333\n",
      "92 epoch loss. Train : 0.035357613108019575 . Test : 1.0454502707917366e-05\n",
      "92 epoch acc. Train : 0.9995187969924813 . Test : 0.9782857142857143\n",
      "93 epoch loss. Train : 0.03489130951526158 . Test : 1.0360738975905166e-05\n",
      "93 epoch acc. Train : 0.9994987468671679 . Test : 0.9801904761904762\n",
      "94 epoch loss. Train : 0.03493675117745424 . Test : 1.0289945793990342e-05\n",
      "94 epoch acc. Train : 0.9996190476190476 . Test : 0.9786666666666667\n",
      "95 epoch loss. Train : 0.03407321368844289 . Test : 1.0218973877336286e-05\n",
      "95 epoch acc. Train : 0.9996992481203008 . Test : 0.9794285714285714\n",
      "96 epoch loss. Train : 0.03398647799706857 . Test : 1.0129862981008844e-05\n",
      "96 epoch acc. Train : 0.9997794486215539 . Test : 0.979047619047619\n",
      "97 epoch loss. Train : 0.03350964750280513 . Test : 1.0068058481789272e-05\n",
      "97 epoch acc. Train : 0.9997994987468671 . Test : 0.979047619047619\n",
      "98 epoch loss. Train : 0.03325794014741708 . Test : 9.983978557991649e-06\n",
      "98 epoch acc. Train : 0.9997794486215539 . Test : 0.9798095238095238\n",
      "99 epoch loss. Train : 0.03340447319676071 . Test : 9.926021496071729e-06\n",
      "99 epoch acc. Train : 0.9997593984962406 . Test : 0.9798095238095238\n",
      "100 epoch loss. Train : 0.03362024155979481 . Test : 9.914692395979995e-06\n",
      "100 epoch acc. Train : 0.9996591478696741 . Test : 0.9798095238095238\n",
      "101 epoch loss. Train : 0.03532861152544772 . Test : 1.000115247622956e-05\n",
      "101 epoch acc. Train : 0.9992380952380953 . Test : 0.9779047619047619\n",
      "102 epoch loss. Train : 0.03589107789438454 . Test : 1.0165438643398156e-05\n",
      "102 epoch acc. Train : 0.9993383458646616 . Test : 0.9782857142857143\n",
      "103 epoch loss. Train : 0.037780853247379634 . Test : 1.0136216197452396e-05\n",
      "103 epoch acc. Train : 0.9995388471177945 . Test : 0.9771428571428571\n",
      "104 epoch loss. Train : 0.03542554940456397 . Test : 1.0141208496074169e-05\n",
      "104 epoch acc. Train : 0.9995989974937344 . Test : 0.9775238095238096\n",
      "105 epoch loss. Train : 0.03538947216276334 . Test : 1.0099875729801678e-05\n",
      "105 epoch acc. Train : 0.9996791979949875 . Test : 0.9786666666666667\n",
      "106 epoch loss. Train : 0.036053461132984466 . Test : 1.0207956374705906e-05\n",
      "106 epoch acc. Train : 0.9992380952380953 . Test : 0.9775238095238096\n",
      "107 epoch loss. Train : 0.03533069014809328 . Test : 1.0147988872167023e-05\n",
      "107 epoch acc. Train : 0.9994185463659148 . Test : 0.9771428571428571\n",
      "108 epoch loss. Train : 0.03531384790232175 . Test : 1.0134085909204197e-05\n",
      "108 epoch acc. Train : 0.999438596491228 . Test : 0.9786666666666667\n",
      "109 epoch loss. Train : 0.03489469371902145 . Test : 1.0089331887815288e-05\n",
      "109 epoch acc. Train : 0.9996390977443609 . Test : 0.9767619047619047\n",
      "110 epoch loss. Train : 0.034537315746519234 . Test : 1.00496799732935e-05\n",
      "110 epoch acc. Train : 0.9994586466165414 . Test : 0.9771428571428571\n",
      "111 epoch loss. Train : 0.03391212386818263 . Test : 1.0028428055629645e-05\n",
      "111 epoch acc. Train : 0.9997593984962406 . Test : 0.9775238095238096\n",
      "112 epoch loss. Train : 0.03352691559236511 . Test : 9.936227771344472e-06\n",
      "112 epoch acc. Train : 0.9996591478696741 . Test : 0.9794285714285714\n",
      "113 epoch loss. Train : 0.03307150841377841 . Test : 9.89636382958236e-06\n",
      "113 epoch acc. Train : 0.9996791979949875 . Test : 0.979047619047619\n",
      "114 epoch loss. Train : 0.032991919301036295 . Test : 9.82801543153845e-06\n",
      "114 epoch acc. Train : 0.9997393483709274 . Test : 0.9786666666666667\n"
     ]
    },
    {
     "name": "stdout",
     "output_type": "stream",
     "text": [
      "115 epoch loss. Train : 0.032843912633809945 . Test : 9.767764764689798e-06\n",
      "115 epoch acc. Train : 0.9997593984962406 . Test : 0.9779047619047619\n",
      "116 epoch loss. Train : 0.03276132909236292 . Test : 9.73422105839007e-06\n",
      "116 epoch acc. Train : 0.9997994987468671 . Test : 0.9771428571428571\n",
      "117 epoch loss. Train : 0.03251663412553505 . Test : 9.681426287189692e-06\n",
      "117 epoch acc. Train : 0.9996591478696741 . Test : 0.9771428571428571\n",
      "118 epoch loss. Train : 0.03226722325514646 . Test : 9.63693392041324e-06\n",
      "118 epoch acc. Train : 0.9998195488721805 . Test : 0.9786666666666667\n",
      "119 epoch loss. Train : 0.032395876931196825 . Test : 9.60505863557831e-06\n",
      "119 epoch acc. Train : 0.9997593984962406 . Test : 0.9779047619047619\n",
      "120 epoch loss. Train : 0.03332892617778662 . Test : 9.618037282142453e-06\n",
      "120 epoch acc. Train : 0.9995989974937344 . Test : 0.979047619047619\n",
      "121 epoch loss. Train : 0.03275118258573443 . Test : 9.593034154947116e-06\n",
      "121 epoch acc. Train : 0.9996791979949875 . Test : 0.9767619047619047\n",
      "122 epoch loss. Train : 0.032193025472432905 . Test : 9.56805921218691e-06\n",
      "122 epoch acc. Train : 0.9997593984962406 . Test : 0.9782857142857143\n",
      "123 epoch loss. Train : 0.032126078406471505 . Test : 9.539638446793042e-06\n",
      "123 epoch acc. Train : 0.9996591478696741 . Test : 0.979047619047619\n",
      "124 epoch loss. Train : 0.0329786159170853 . Test : 9.53736076896232e-06\n",
      "124 epoch acc. Train : 0.9996190476190476 . Test : 0.9782857142857143\n",
      "125 epoch loss. Train : 0.03214565448429573 . Test : 9.508506754084968e-06\n",
      "125 epoch acc. Train : 0.9997593984962406 . Test : 0.9775238095238096\n",
      "126 epoch loss. Train : 0.031835480791447233 . Test : 9.498377616197654e-06\n",
      "126 epoch acc. Train : 0.9997994987468671 . Test : 0.9801904761904762\n",
      "127 epoch loss. Train : 0.03163066812045404 . Test : 9.450985769313179e-06\n",
      "127 epoch acc. Train : 0.9998395989974938 . Test : 0.9786666666666667\n",
      "128 epoch loss. Train : 0.031626653286465356 . Test : 9.42358584679108e-06\n",
      "128 epoch acc. Train : 0.9998395989974938 . Test : 0.9771428571428571\n",
      "129 epoch loss. Train : 0.031995416600841514 . Test : 9.421900826043676e-06\n",
      "129 epoch acc. Train : 0.999719298245614 . Test : 0.9779047619047619\n",
      "130 epoch loss. Train : 0.03311252689737626 . Test : 9.472517928656616e-06\n",
      "130 epoch acc. Train : 0.9995588972431078 . Test : 0.9786666666666667\n",
      "131 epoch loss. Train : 0.0327614075354749 . Test : 9.518701186655392e-06\n",
      "131 epoch acc. Train : 0.9995187969924813 . Test : 0.9786666666666667\n",
      "132 epoch loss. Train : 0.034573839304259196 . Test : 9.508894127413603e-06\n",
      "132 epoch acc. Train : 0.9995989974937344 . Test : 0.9771428571428571\n",
      "133 epoch loss. Train : 0.03307429063631614 . Test : 9.514196013466486e-06\n",
      "133 epoch acc. Train : 0.9996591478696741 . Test : 0.9775238095238096\n",
      "134 epoch loss. Train : 0.03177868384424563 . Test : 9.470937182061594e-06\n",
      "134 epoch acc. Train : 0.9998195488721805 . Test : 0.9779047619047619\n",
      "135 epoch loss. Train : 0.03173054540225153 . Test : 9.452365057082064e-06\n",
      "135 epoch acc. Train : 0.9997794486215539 . Test : 0.9771428571428571\n",
      "136 epoch loss. Train : 0.0315547479626103 . Test : 9.423697458684493e-06\n",
      "136 epoch acc. Train : 0.9998395989974938 . Test : 0.9771428571428571\n"
     ]
    },
    {
     "ename": "KeyboardInterrupt",
     "evalue": "",
     "output_type": "error",
     "traceback": [
      "\u001b[0;31m---------------------------------------------------------------------------\u001b[0m",
      "\u001b[0;31mKeyboardInterrupt\u001b[0m                         Traceback (most recent call last)",
      "\u001b[0;32m<ipython-input-62-661ac7b2d7f8>\u001b[0m in \u001b[0;36m<module>\u001b[0;34m()\u001b[0m\n\u001b[1;32m     29\u001b[0m         \u001b[0mL_acc\u001b[0m \u001b[0;34m+=\u001b[0m \u001b[0mloss\u001b[0m\u001b[0;34m.\u001b[0m\u001b[0mforward\u001b[0m\u001b[0;34m(\u001b[0m\u001b[0my\u001b[0m\u001b[0;34m,\u001b[0m \u001b[0my_h\u001b[0m\u001b[0;34m)\u001b[0m \u001b[0;34m+\u001b[0m \u001b[0mnet\u001b[0m\u001b[0;34m.\u001b[0m\u001b[0mget_reg_loss\u001b[0m\u001b[0;34m(\u001b[0m\u001b[0;34m)\u001b[0m\u001b[0;34m\u001b[0m\u001b[0m\n\u001b[1;32m     30\u001b[0m         \u001b[0mdz\u001b[0m \u001b[0;34m=\u001b[0m \u001b[0mloss\u001b[0m\u001b[0;34m.\u001b[0m\u001b[0mbackward\u001b[0m\u001b[0;34m(\u001b[0m\u001b[0;36m1\u001b[0m\u001b[0;34m,\u001b[0m \u001b[0mlr\u001b[0m\u001b[0;34m)\u001b[0m\u001b[0;34m\u001b[0m\u001b[0m\n\u001b[0;32m---> 31\u001b[0;31m         \u001b[0mdz\u001b[0m \u001b[0;34m=\u001b[0m \u001b[0mnet\u001b[0m\u001b[0;34m.\u001b[0m\u001b[0mbackward\u001b[0m\u001b[0;34m(\u001b[0m\u001b[0mdz\u001b[0m\u001b[0;34m,\u001b[0m \u001b[0mlr\u001b[0m\u001b[0;34m)\u001b[0m\u001b[0;34m\u001b[0m\u001b[0m\n\u001b[0m\u001b[1;32m     32\u001b[0m \u001b[0;34m\u001b[0m\u001b[0m\n\u001b[1;32m     33\u001b[0m     \u001b[0mAcc\u001b[0m \u001b[0;34m/=\u001b[0m \u001b[0my_train\u001b[0m\u001b[0;34m.\u001b[0m\u001b[0mshape\u001b[0m\u001b[0;34m[\u001b[0m\u001b[0;36m0\u001b[0m\u001b[0;34m]\u001b[0m\u001b[0;34m\u001b[0m\u001b[0m\n",
      "\u001b[0;32m<ipython-input-49-57428fcad05f>\u001b[0m in \u001b[0;36mbackward\u001b[0;34m(self, dz, lr)\u001b[0m\n\u001b[1;32m     27\u001b[0m         \u001b[0mdz\u001b[0m \u001b[0;34m=\u001b[0m \u001b[0mself\u001b[0m\u001b[0;34m.\u001b[0m\u001b[0ms\u001b[0m\u001b[0;34m.\u001b[0m\u001b[0mbackward\u001b[0m\u001b[0;34m(\u001b[0m\u001b[0mdz\u001b[0m\u001b[0;34m,\u001b[0m \u001b[0mlr\u001b[0m\u001b[0;34m)\u001b[0m\u001b[0;34m\u001b[0m\u001b[0m\n\u001b[1;32m     28\u001b[0m         \u001b[0mdz\u001b[0m \u001b[0;34m=\u001b[0m \u001b[0mself\u001b[0m\u001b[0;34m.\u001b[0m\u001b[0mm4\u001b[0m\u001b[0;34m.\u001b[0m\u001b[0mbackward\u001b[0m\u001b[0;34m(\u001b[0m\u001b[0mdz\u001b[0m\u001b[0;34m,\u001b[0m \u001b[0mlr\u001b[0m\u001b[0;34m)\u001b[0m\u001b[0;34m\u001b[0m\u001b[0m\n\u001b[0;32m---> 29\u001b[0;31m         \u001b[0mdz\u001b[0m \u001b[0;34m=\u001b[0m \u001b[0mself\u001b[0m\u001b[0;34m.\u001b[0m\u001b[0md4\u001b[0m\u001b[0;34m.\u001b[0m\u001b[0mbackward\u001b[0m\u001b[0;34m(\u001b[0m\u001b[0mdz\u001b[0m\u001b[0;34m,\u001b[0m \u001b[0mlr\u001b[0m\u001b[0;34m)\u001b[0m\u001b[0;34m\u001b[0m\u001b[0m\n\u001b[0m\u001b[1;32m     30\u001b[0m         \u001b[0mdz\u001b[0m \u001b[0;34m=\u001b[0m \u001b[0mself\u001b[0m\u001b[0;34m.\u001b[0m\u001b[0mm3\u001b[0m\u001b[0;34m.\u001b[0m\u001b[0mbackward\u001b[0m\u001b[0;34m(\u001b[0m\u001b[0mdz\u001b[0m\u001b[0;34m,\u001b[0m \u001b[0mlr\u001b[0m\u001b[0;34m)\u001b[0m\u001b[0;34m\u001b[0m\u001b[0m\n\u001b[1;32m     31\u001b[0m         \u001b[0mdz\u001b[0m \u001b[0;34m=\u001b[0m \u001b[0mself\u001b[0m\u001b[0;34m.\u001b[0m\u001b[0md3\u001b[0m\u001b[0;34m.\u001b[0m\u001b[0mbackward\u001b[0m\u001b[0;34m(\u001b[0m\u001b[0mdz\u001b[0m\u001b[0;34m,\u001b[0m \u001b[0mlr\u001b[0m\u001b[0;34m)\u001b[0m\u001b[0;34m\u001b[0m\u001b[0m\n",
      "\u001b[0;32m<ipython-input-37-e1b061e97a35>\u001b[0m in \u001b[0;36mbackward\u001b[0;34m(self, dz, lr)\u001b[0m\n\u001b[1;32m     22\u001b[0m         \u001b[0;31m# рассчитываем градиенты от регуляризатора\u001b[0m\u001b[0;34m\u001b[0m\u001b[0;34m\u001b[0m\u001b[0m\n\u001b[1;32m     23\u001b[0m         \u001b[0;32mif\u001b[0m\u001b[0;34m(\u001b[0m\u001b[0mself\u001b[0m\u001b[0;34m.\u001b[0m\u001b[0mrlambda\u001b[0m \u001b[0;34m!=\u001b[0m \u001b[0;36m0\u001b[0m\u001b[0;34m)\u001b[0m\u001b[0;34m:\u001b[0m\u001b[0;34m\u001b[0m\u001b[0m\n\u001b[0;32m---> 24\u001b[0;31m             \u001b[0mself\u001b[0m\u001b[0;34m.\u001b[0m\u001b[0mdW\u001b[0m \u001b[0;34m+=\u001b[0m \u001b[0mself\u001b[0m\u001b[0;34m.\u001b[0m\u001b[0mrlambda\u001b[0m \u001b[0;34m*\u001b[0m \u001b[0mself\u001b[0m\u001b[0;34m.\u001b[0m\u001b[0mW\u001b[0m\u001b[0;34m\u001b[0m\u001b[0m\n\u001b[0m\u001b[1;32m     25\u001b[0m         \u001b[0;31m# обновляем веса\u001b[0m\u001b[0;34m\u001b[0m\u001b[0;34m\u001b[0m\u001b[0m\n\u001b[1;32m     26\u001b[0m         \u001b[0mself\u001b[0m\u001b[0;34m.\u001b[0m\u001b[0mW\u001b[0m \u001b[0;34m=\u001b[0m \u001b[0mself\u001b[0m\u001b[0;34m.\u001b[0m\u001b[0mW\u001b[0m \u001b[0;34m-\u001b[0m \u001b[0mlr\u001b[0m \u001b[0;34m*\u001b[0m \u001b[0mself\u001b[0m\u001b[0;34m.\u001b[0m\u001b[0mdW\u001b[0m\u001b[0;34m\u001b[0m\u001b[0m\n",
      "\u001b[0;31mKeyboardInterrupt\u001b[0m: "
     ]
    }
   ],
   "source": [
    "# Здесь процедура обучения\n",
    "\n",
    "import tqdm\n",
    "\n",
    "num_of_epochs = 400\n",
    "\n",
    "net = MnistNet(1e-3)\n",
    "loss = CrossEntropy()\n",
    "\n",
    "L_train = []\n",
    "L_test = []\n",
    "A_train = []\n",
    "A_test = []\n",
    "\n",
    "for epoch in tqdm.tqdm_notebook(range(num_of_epochs)):\n",
    "    L_acc = 0.\n",
    "    Acc = 0.\n",
    "    \n",
    "    # Перемешиваем элементы\n",
    "    sh = list(range(X_train.shape[0])) # больше рандома богу рандома\n",
    "    np.random.shuffle(sh)\n",
    "    lr = 1e-2 / np.sqrt(epoch + 1)\n",
    "    \n",
    "    for i in range(X_train.shape[0]):\n",
    "        x = X_train[sh[i]]\n",
    "        y = y_train[sh[i]]\n",
    "        y_h = net.forward(x)\n",
    "        Acc += np.argmax(y_h) == np.argmax(y)\n",
    "        L_acc += loss.forward(y, y_h) + net.get_reg_loss()\n",
    "        dz = loss.backward(1, lr)\n",
    "        dz = net.backward(dz, lr)\n",
    "        \n",
    "    Acc /= y_train.shape[0]\n",
    "    A_train += [Acc]\n",
    "    L_acc /= y_train.shape[0]\n",
    "    L_train += [L_acc]\n",
    "    \n",
    "    L_e_acc = 0.\n",
    "    E_acc = 0.\n",
    "\n",
    "    for i in range(X_test.shape[0]):\n",
    "        x = X_test[i]\n",
    "        y = y_test[i]\n",
    "        y_h = net.forward(x)\n",
    "        E_acc += np.argmax(y_h) == np.argmax(y)\n",
    "        L_e_acc = loss.forward(y, y_h) + net.get_reg_loss()\n",
    "\n",
    "\n",
    "    E_acc /= y_test.shape[0]\n",
    "    A_test += [E_acc]\n",
    "    L_e_acc /= y_test.shape[0]\n",
    "    L_test += [L_e_acc]\n",
    "\n",
    "    print(\"{} epoch loss. Train : {} . Test : {}\".format(epoch, L_acc, L_e_acc))\n",
    "    print(\"{} epoch acc. Train : {} . Test : {}\".format(epoch, Acc, E_acc))\n",
    "    \n",
    "    if epoch % 10 == 0:\n",
    "        with open(\"net_dumps/net_dump_{}.pickle\".format(epoch), \"wb\") as outfile:\n",
    "            pickle.dump(net, outfile)"
   ]
  },
  {
   "cell_type": "code",
   "execution_count": 63,
   "metadata": {
    "ExecuteTime": {
     "end_time": "2019-03-13T20:01:01.143439Z",
     "start_time": "2019-03-13T20:01:00.915336Z"
    }
   },
   "outputs": [
    {
     "data": {
      "text/plain": [
       "<matplotlib.legend.Legend at 0x7f170b183860>"
      ]
     },
     "execution_count": 63,
     "metadata": {},
     "output_type": "execute_result"
    },
    {
     "data": {
      "image/png": "[encoded data removed]",
      "text/plain": [
       "<Figure size 432x288 with 1 Axes>"
      ]
     },
     "metadata": {
      "needs_background": "light"
     },
     "output_type": "display_data"
    }
   ],
   "source": [
    "# Здесь необходимо отрисовать графики CrossEntropyLoss для обучающей и валидационной выборок\n",
    "\n",
    "plt.title('Loss')\n",
    "\n",
    "plt.plot(L_train, label='train')\n",
    "plt.plot(L_test, label='test')\n",
    "plt.legend()"
   ]
  },
  {
   "cell_type": "code",
   "execution_count": 64,
   "metadata": {
    "ExecuteTime": {
     "end_time": "2019-03-13T20:01:51.707566Z",
     "start_time": "2019-03-13T20:01:49.036559Z"
    }
   },
   "outputs": [],
   "source": [
    "# формируем сабмишшен и заливаем его на kaggle\n",
    "make_submission(X_not_marked, net, fname=\"4layers136epochs.csv\")"
   ]
  },
  {
   "cell_type": "code",
   "execution_count": null,
   "metadata": {},
   "outputs": [],
   "source": []
  }
 ],
 "metadata": {
  "kernelspec": {
   "display_name": "Python 3",
   "language": "python",
   "name": "python3"
  },
  "language_info": {
   "codemirror_mode": {
    "name": "ipython",
    "version": 3
   },
   "file_extension": ".py",
   "mimetype": "text/x-python",
   "name": "python",
   "nbconvert_exporter": "python",
   "pygments_lexer": "ipython3",
   "version": "3.5.5"
  },
  "varInspector": {
   "cols": {
    "lenName": 16,
    "lenType": 16,
    "lenVar": 40
   },
   "kernels_config": {
    "python": {
     "delete_cmd_postfix": "",
     "delete_cmd_prefix": "del ",
     "library": "var_list.py",
     "varRefreshCmd": "print(var_dic_list())"
    },
    "r": {
     "delete_cmd_postfix": ") ",
     "delete_cmd_prefix": "rm(",
     "library": "var_list.r",
     "varRefreshCmd": "cat(var_dic_list()) "
    }
   },
   "types_to_exclude": [
    "module",
    "function",
    "builtin_function_or_method",
    "instance",
    "_Feature"
   ],
   "window_display": false
  }
 },
 "nbformat": 4,
 "nbformat_minor": 2
}
